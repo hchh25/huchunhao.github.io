{
  "nbformat": 4,
  "nbformat_minor": 0,
  "metadata": {
    "kernelspec": {
      "display_name": "Python 3",
      "language": "python",
      "name": "python3"
    },
    "language_info": {
      "codemirror_mode": {
        "name": "ipython",
        "version": 3
      },
      "file_extension": ".py",
      "mimetype": "text/x-python",
      "name": "python",
      "nbconvert_exporter": "python",
      "pygments_lexer": "ipython3",
      "version": "3.6.2"
    },
    "colab": {
      "provenance": [],
      "include_colab_link": true
    }
  },
  "cells": [
    {
      "cell_type": "markdown",
      "metadata": {
        "id": "view-in-github",
        "colab_type": "text"
      },
      "source": [
        "<a href=\"https://colab.research.google.com/github/hchh25/huchunhao.github.io/blob/main/Class_2_Python_Basics_Fall_2022.ipynb\" target=\"_parent\"><img src=\"https://colab.research.google.com/assets/colab-badge.svg\" alt=\"Open In Colab\"/></a>"
      ]
    },
    {
      "cell_type": "markdown",
      "metadata": {
        "id": "kfNZqrtraEgJ"
      },
      "source": [
        "## Pandas"
      ]
    },
    {
      "cell_type": "code",
      "metadata": {
        "id": "RUjYSoskYly5"
      },
      "source": [
        "from google.colab import files\n",
        "uploaded = files.upload()"
      ],
      "execution_count": null,
      "outputs": []
    },
    {
      "cell_type": "code",
      "metadata": {
        "id": "lJtt5MbZYLdI"
      },
      "source": [
        "# Read CSV as pandas data frame\n",
        "import pandas as pd\n",
        "df=pd.read_csv('superstore.csv')\n",
        "df"
      ],
      "execution_count": null,
      "outputs": []
    },
    {
      "cell_type": "code",
      "metadata": {
        "id": "xP-Rc3KVYly6"
      },
      "source": [
        "df.shape"
      ],
      "execution_count": null,
      "outputs": []
    },
    {
      "cell_type": "code",
      "metadata": {
        "id": "LP3e9H1fdupN"
      },
      "source": [
        "df.dtypes"
      ],
      "execution_count": null,
      "outputs": []
    },
    {
      "cell_type": "code",
      "metadata": {
        "id": "a5DnHUkGYly9"
      },
      "source": [
        "len(df)"
      ],
      "execution_count": null,
      "outputs": []
    },
    {
      "cell_type": "code",
      "metadata": {
        "id": "KriLNZoXYly9"
      },
      "source": [
        "df.describe()"
      ],
      "execution_count": null,
      "outputs": []
    },
    {
      "cell_type": "markdown",
      "source": [
        "## **Task 1:** Use the describe function to get summary of all the variables"
      ],
      "metadata": {
        "id": "Yq00ZLwwvLzY"
      }
    },
    {
      "cell_type": "code",
      "metadata": {
        "id": "GQlqOa21Yly9"
      },
      "source": [
        "df['Category'].value_counts()"
      ],
      "execution_count": null,
      "outputs": []
    },
    {
      "cell_type": "code",
      "metadata": {
        "id": "QLjLY_gEYly9"
      },
      "source": [
        "df['Region'].nunique()"
      ],
      "execution_count": null,
      "outputs": []
    },
    {
      "cell_type": "code",
      "metadata": {
        "id": "6X96zF3Eft5y"
      },
      "source": [
        "df['Sales'].dtypes"
      ],
      "execution_count": null,
      "outputs": []
    },
    {
      "cell_type": "code",
      "metadata": {
        "id": "MrTRIIgeYly6"
      },
      "source": [
        "# Select top rows\n",
        "df.head(2)"
      ],
      "execution_count": null,
      "outputs": []
    },
    {
      "cell_type": "code",
      "metadata": {
        "id": "m4nsKStWYly6"
      },
      "source": [
        "# Select bottom rows\n",
        "df.tail(2)"
      ],
      "execution_count": null,
      "outputs": []
    },
    {
      "cell_type": "code",
      "metadata": {
        "id": "lu_6O5_dYly6"
      },
      "source": [
        "# Select random fraction of rows\n",
        "df.sample(frac=0.5)"
      ],
      "execution_count": null,
      "outputs": []
    },
    {
      "cell_type": "code",
      "metadata": {
        "id": "l8qy-fxLYly7"
      },
      "source": [
        "# Select random fraction of rows\n",
        "df.sample(n=2)"
      ],
      "execution_count": null,
      "outputs": []
    },
    {
      "cell_type": "code",
      "metadata": {
        "id": "ObNA--Q3Yly7"
      },
      "source": [
        "# Select using idex values\n",
        "df.iloc[1:3]"
      ],
      "execution_count": null,
      "outputs": []
    },
    {
      "cell_type": "code",
      "metadata": {
        "id": "L-eIlL_oYly7"
      },
      "source": [
        "# Select rows by condition\n",
        "df.nlargest(2, 'Sales')"
      ],
      "execution_count": null,
      "outputs": []
    },
    {
      "cell_type": "code",
      "metadata": {
        "id": "CqTI4igUYly7"
      },
      "source": [
        "# Select rows by condition\n",
        "df.nsmallest(2, 'Profit')"
      ],
      "execution_count": null,
      "outputs": []
    },
    {
      "cell_type": "code",
      "metadata": {
        "id": "LqU3uJdGYly7"
      },
      "source": [
        "# Select Column by name\n",
        "df[['Category']]"
      ],
      "execution_count": null,
      "outputs": []
    },
    {
      "cell_type": "code",
      "metadata": {
        "id": "spK36LJRYly8"
      },
      "source": [
        "df[['Category','Region']]"
      ],
      "execution_count": null,
      "outputs": []
    },
    {
      "cell_type": "code",
      "metadata": {
        "id": "5BRuuzWOYly8"
      },
      "source": [
        "df.loc[:,'Category':'Region']"
      ],
      "execution_count": null,
      "outputs": []
    },
    {
      "cell_type": "code",
      "metadata": {
        "id": "OscUQssBYly8"
      },
      "source": [
        "df.loc[1:3,'Category':'Region']"
      ],
      "execution_count": null,
      "outputs": []
    },
    {
      "cell_type": "code",
      "metadata": {
        "id": "zMVNjVN4Yly8"
      },
      "source": [
        "df.iloc[:,1:2]"
      ],
      "execution_count": null,
      "outputs": []
    },
    {
      "cell_type": "code",
      "metadata": {
        "id": "IV31-U89Yly8"
      },
      "source": [
        "df.iloc[1:3,1:2]"
      ],
      "execution_count": null,
      "outputs": []
    },
    {
      "cell_type": "code",
      "metadata": {
        "id": "cpVvKTt6Yly9"
      },
      "source": [
        "df.loc[df['Profit']>15]"
      ],
      "execution_count": null,
      "outputs": []
    },
    {
      "cell_type": "code",
      "metadata": {
        "id": "4KzCd0yZYly9"
      },
      "source": [
        "df.loc[df['Profit']>15,['Category','Sales']]"
      ],
      "execution_count": null,
      "outputs": []
    },
    {
      "cell_type": "code",
      "metadata": {
        "id": "WSJo4ayrpstD"
      },
      "source": [
        "df.sort_values(by='Sales', ascending=False)"
      ],
      "execution_count": null,
      "outputs": []
    },
    {
      "cell_type": "markdown",
      "metadata": {
        "id": "ckgG-kb7zkdh"
      },
      "source": [
        "## Central Tendencies"
      ]
    },
    {
      "cell_type": "code",
      "metadata": {
        "id": "qu-Bz3dal885"
      },
      "source": [
        "from google.colab import files\n",
        "uploaded = files.upload()"
      ],
      "execution_count": null,
      "outputs": []
    },
    {
      "cell_type": "code",
      "metadata": {
        "id": "C1cbx7l_mGlY"
      },
      "source": [
        "import pandas as pd\n",
        "import numpy as np\n",
        "df_iris = pd.read_csv('iris.csv')\n",
        "df_irisNA = pd.read_csv('irisNA.csv')"
      ],
      "execution_count": null,
      "outputs": []
    },
    {
      "cell_type": "code",
      "metadata": {
        "id": "Nwt0FEqs1Voe"
      },
      "source": [
        "# Using Pandas\n",
        "print(\"Mean value:\",df_iris['petal.length'].mean()) \n",
        "print(\"Median value:\",df_iris['petal.length'].median()) \n",
        "print(\"Mode:\",df_iris['petal.length'].mode()) \n",
        "print(\"Mode:\",df_iris['variety'].mode()) "
      ],
      "execution_count": null,
      "outputs": []
    },
    {
      "cell_type": "code",
      "metadata": {
        "id": "hAcP-taC70nr"
      },
      "source": [
        "# Using Pandas with missing values in data\n",
        "print(\"Mean value:\",df_irisNA['petal.length'].mean(skipna=False)) \n",
        "print(\"Median value:\",df_irisNA['petal.length'].median()) \n",
        "print(\"Mode:\",df_irisNA['petal.length'].mode()) "
      ],
      "execution_count": null,
      "outputs": []
    },
    {
      "cell_type": "code",
      "metadata": {
        "id": "xH9D44i5ldYd"
      },
      "source": [
        "# Using Numpy\n",
        "print(np.mean(df_iris['petal.length']))\n",
        "print(np.median(df_iris['petal.length']))"
      ],
      "execution_count": null,
      "outputs": []
    },
    {
      "cell_type": "code",
      "metadata": {
        "id": "zTZsP_sIl_G1"
      },
      "source": [
        "# Using Numpy with missing values in data\n",
        "print(np.nanmean(df_irisNA['petal.length']))\n",
        "print(np.nanmedian(df_irisNA['petal.length']))"
      ],
      "execution_count": null,
      "outputs": []
    },
    {
      "cell_type": "code",
      "metadata": {
        "id": "INffSM27meMC"
      },
      "source": [
        "# Using Scipy for mode\n",
        "from scipy import stats\n",
        "stats.mode(df_iris['variety'])"
      ],
      "execution_count": null,
      "outputs": []
    },
    {
      "cell_type": "code",
      "metadata": {
        "id": "qjDlwoy4mpcy"
      },
      "source": [
        "stats.mode(df_irisNA['petal.length'],nan_policy='omit')"
      ],
      "execution_count": null,
      "outputs": []
    },
    {
      "cell_type": "markdown",
      "metadata": {
        "id": "tzCUZBoP89bD"
      },
      "source": [
        "## Dispersion or Spread"
      ]
    },
    {
      "cell_type": "code",
      "metadata": {
        "id": "R51pQiwA9Y9o"
      },
      "source": [
        "# Quantile\n",
        "df['petal.length'].quantile(0.25)"
      ],
      "execution_count": null,
      "outputs": []
    },
    {
      "cell_type": "code",
      "metadata": {
        "id": "0wiYEy-s8828"
      },
      "source": [
        "# Standard deviation and Variance using Pandas\n",
        "print(\"Standard deviation value:\",df['petal.length'].std()) \n",
        "print(\"Variance value:\",df['petal.length'].var()) "
      ],
      "execution_count": null,
      "outputs": []
    },
    {
      "cell_type": "code",
      "metadata": {
        "id": "qHqax08tqBZu"
      },
      "source": [
        "# Standard deviation and Variance using Numpy\n",
        "print(\"Standard deviation value:\",np.std(df['petal.length']))\n",
        "print(\"Variance value:\",np.var(df['petal.length']))"
      ],
      "execution_count": null,
      "outputs": []
    },
    {
      "cell_type": "markdown",
      "source": [
        "## Adding Column"
      ],
      "metadata": {
        "id": "RA2fkCZiwF8o"
      }
    },
    {
      "cell_type": "code",
      "source": [
        "df['ratio'] = df['Sales']/df['Quantity']\n",
        "df"
      ],
      "metadata": {
        "id": "fzjSY2HEvw5o"
      },
      "execution_count": null,
      "outputs": []
    },
    {
      "cell_type": "markdown",
      "source": [
        "Insert function can also be used to add a column"
      ],
      "metadata": {
        "id": "UjHVRiBWwXVw"
      }
    },
    {
      "cell_type": "markdown",
      "metadata": {
        "id": "tmi8VqHlMmb3"
      },
      "source": [
        "## Handling Missing Values"
      ]
    },
    {
      "cell_type": "code",
      "metadata": {
        "id": "rzqubg-pLaCk"
      },
      "source": [
        "df_irisNA = pd.read_csv('irisNA.csv')\n",
        "df_irisNA"
      ],
      "execution_count": null,
      "outputs": []
    },
    {
      "cell_type": "code",
      "metadata": {
        "id": "BqjwBvyeLL9w"
      },
      "source": [
        "# Find missing values\n",
        "df_irisNA.isna()"
      ],
      "execution_count": null,
      "outputs": []
    },
    {
      "cell_type": "code",
      "metadata": {
        "id": "t205d3r_298N"
      },
      "source": [
        "# Check NAs in columns\n",
        "df_irisNA['variety'].isna()"
      ],
      "execution_count": null,
      "outputs": []
    },
    {
      "cell_type": "code",
      "metadata": {
        "id": "tOQPw7OS3CbC"
      },
      "source": [
        "df_irisNA['variety'].isna().value_counts()"
      ],
      "execution_count": null,
      "outputs": []
    },
    {
      "cell_type": "code",
      "metadata": {
        "id": "Ob4BSKXO3cmB"
      },
      "source": [
        "df_irisNA['variety'].fillna('other', inplace=True)\n",
        "df_irisNA"
      ],
      "execution_count": null,
      "outputs": []
    },
    {
      "cell_type": "markdown",
      "source": [
        "## String Operations"
      ],
      "metadata": {
        "id": "Z1Z7Qrx5wns_"
      }
    },
    {
      "cell_type": "code",
      "source": [
        "# Upper case\n",
        "df['City'].str.upper()"
      ],
      "metadata": {
        "id": "U61NbtsXwqMQ"
      },
      "execution_count": null,
      "outputs": []
    },
    {
      "cell_type": "code",
      "source": [
        "# Lower case\n",
        "df['City'].str.lower()"
      ],
      "metadata": {
        "id": "AwIuIQj3w-3g"
      },
      "execution_count": null,
      "outputs": []
    },
    {
      "cell_type": "code",
      "source": [
        "# Replace strings\n",
        "df['Country/Region'].str.replace('United States', 'US')"
      ],
      "metadata": {
        "id": "k6Yrd8Y8xYA4"
      },
      "execution_count": null,
      "outputs": []
    },
    {
      "cell_type": "code",
      "source": [
        "# Split strings\n",
        "df['Customer Name'].str.split()"
      ],
      "metadata": {
        "id": "P_5rTvlvxoo4"
      },
      "execution_count": null,
      "outputs": []
    },
    {
      "cell_type": "markdown",
      "source": [
        "## **Task 2:** Split 'Order ID' column using '-' as the split condition"
      ],
      "metadata": {
        "id": "m6_XnK2myAT4"
      }
    },
    {
      "cell_type": "code",
      "source": [
        "# Check strings\n",
        "df['Category'].str.contains('i')"
      ],
      "metadata": {
        "id": "jkwPA6fhyqFP"
      },
      "execution_count": null,
      "outputs": []
    },
    {
      "cell_type": "code",
      "source": [
        "# Find strings\n",
        "df['Category'].str.find('i')"
      ],
      "metadata": {
        "id": "x0rtCRsGzDha"
      },
      "execution_count": null,
      "outputs": []
    },
    {
      "cell_type": "code",
      "source": [
        "# Find strings\n",
        "df['Category'].str.findall('Supplies')"
      ],
      "metadata": {
        "id": "V7khB7C7zx-3"
      },
      "execution_count": null,
      "outputs": []
    },
    {
      "cell_type": "markdown",
      "source": [
        "## Date Operations"
      ],
      "metadata": {
        "id": "kjKOKSpw0WPw"
      }
    },
    {
      "cell_type": "code",
      "source": [
        "df['Order Date'] = pd.to_datetime(df['Order Date'])\n",
        "df['Ship Date'] = pd.to_datetime(df['Ship Date'])\n",
        "df['Ship Date']-df['Order Date']"
      ],
      "metadata": {
        "id": "VQ9JL8I50W2H"
      },
      "execution_count": null,
      "outputs": []
    },
    {
      "cell_type": "code",
      "source": [
        "df['Order Date'].dt.year"
      ],
      "metadata": {
        "id": "xhW63ZlP05yg"
      },
      "execution_count": null,
      "outputs": []
    },
    {
      "cell_type": "code",
      "source": [
        "df['Order Date'].dt.day"
      ],
      "metadata": {
        "id": "uu0PrtWA1E9n"
      },
      "execution_count": null,
      "outputs": []
    },
    {
      "cell_type": "code",
      "source": [
        "df['Order Date'].dt.month"
      ],
      "metadata": {
        "id": "_hkv7eKR1HSf"
      },
      "execution_count": null,
      "outputs": []
    },
    {
      "cell_type": "code",
      "source": [
        "df['Order Date'].dt.week"
      ],
      "metadata": {
        "id": "Bj-bbRfw1Y2y"
      },
      "execution_count": null,
      "outputs": []
    },
    {
      "cell_type": "markdown",
      "metadata": {
        "id": "T6ep6upoeVCm"
      },
      "source": [
        "## Grouping Operations"
      ]
    },
    {
      "cell_type": "code",
      "metadata": {
        "collapsed": true,
        "id": "Y-g3tBYlYly_"
      },
      "source": [
        "print(df.groupby('Category').first(3))"
      ],
      "execution_count": null,
      "outputs": []
    },
    {
      "cell_type": "code",
      "metadata": {
        "id": "5dcnZ50bealr"
      },
      "source": [
        "print(df.groupby('Category')['Sales'].sum())"
      ],
      "execution_count": null,
      "outputs": []
    },
    {
      "cell_type": "code",
      "metadata": {
        "id": "3fTAASd-eqB6"
      },
      "source": [
        "print(df.groupby('Category')['Sales', 'Profit'].sum())"
      ],
      "execution_count": null,
      "outputs": []
    },
    {
      "cell_type": "code",
      "metadata": {
        "id": "qj9LOYixe4cw"
      },
      "source": [
        "print(df.groupby(['Category','Region'])['Sales','Profit'].sum())"
      ],
      "execution_count": null,
      "outputs": []
    },
    {
      "cell_type": "code",
      "metadata": {
        "id": "x13NG_n9fDDL"
      },
      "source": [
        "print(df.groupby(['Category','Region'])['Sales','Profit'].count())"
      ],
      "execution_count": null,
      "outputs": []
    },
    {
      "cell_type": "code",
      "metadata": {
        "id": "JsT5uFVKk1l1"
      },
      "source": [
        "import seaborn as sns\n",
        "df2 = df.groupby('Category',as_index=False)['Sales'].sum()\n",
        "sns.barplot(x= 'Category', y= 'Sales', data = df2)"
      ],
      "execution_count": null,
      "outputs": []
    },
    {
      "cell_type": "markdown",
      "source": [
        "## **Task 3:** From the Google Mobility data compute the average change in mobility for each state. Include all the points of interest in the calculation."
      ],
      "metadata": {
        "id": "xDqyckJM0nXR"
      }
    },
    {
      "cell_type": "markdown",
      "source": [
        "## **Task 4:** From the nursing home data compute the number of facilities in each state "
      ],
      "metadata": {
        "id": "rlLUgRlu4X6W"
      }
    },
    {
      "cell_type": "markdown",
      "source": [
        "## Reshaping Data"
      ],
      "metadata": {
        "id": "HxHLiLh1L9XD"
      }
    },
    {
      "cell_type": "code",
      "source": [
        "# long to wide\n",
        "df_fish = pd.read_csv('fish_encounters.csv')\n",
        "df_fish"
      ],
      "metadata": {
        "id": "UZS_28_KL70N"
      },
      "execution_count": null,
      "outputs": []
    },
    {
      "cell_type": "code",
      "source": [
        "df_fish.shape"
      ],
      "metadata": {
        "id": "0xMzmh-yPOBh"
      },
      "execution_count": null,
      "outputs": []
    },
    {
      "cell_type": "code",
      "source": [
        "df_fish['fish'].nunique()"
      ],
      "metadata": {
        "id": "9yf1KKCwPwU7"
      },
      "execution_count": null,
      "outputs": []
    },
    {
      "cell_type": "code",
      "source": [
        "df_fish['station'].nunique()"
      ],
      "metadata": {
        "id": "nnwqcEHnP5Id"
      },
      "execution_count": null,
      "outputs": []
    },
    {
      "cell_type": "code",
      "source": [
        "df_fish['seen'].nunique()"
      ],
      "metadata": {
        "id": "EsA6Bg-JP8D8"
      },
      "execution_count": null,
      "outputs": []
    },
    {
      "cell_type": "code",
      "source": [
        "df_fish['seen'].isna().value_counts()"
      ],
      "metadata": {
        "id": "VMt-M1antaLL"
      },
      "execution_count": null,
      "outputs": []
    },
    {
      "cell_type": "code",
      "source": [
        "df2 = df_fish.pivot(index='fish', columns='station', values='seen')\n",
        "df2"
      ],
      "metadata": {
        "id": "neScprYrQFwf"
      },
      "execution_count": null,
      "outputs": []
    },
    {
      "cell_type": "code",
      "source": [
        "df2 = df2.fillna(0)\n",
        "df2"
      ],
      "metadata": {
        "id": "ZUG231J2Q06w"
      },
      "execution_count": null,
      "outputs": []
    },
    {
      "cell_type": "code",
      "source": [
        "sns.heatmap(df2)"
      ],
      "metadata": {
        "id": "2MaKFupPQUVm"
      },
      "execution_count": null,
      "outputs": []
    },
    {
      "cell_type": "code",
      "source": [
        "# wide to long\n",
        "df_billboard = pd.read_csv('billboard.csv')\n",
        "df_billboard"
      ],
      "metadata": {
        "id": "tLh1bOEpRwWV"
      },
      "execution_count": null,
      "outputs": []
    },
    {
      "cell_type": "code",
      "source": [
        "df2 = pd.melt(df_billboard, id_vars=['artist','track', 'date.entered'],var_name='week', value_name='rating')\n",
        "df2"
      ],
      "metadata": {
        "id": "K8gi2Z9dSFgV"
      },
      "execution_count": null,
      "outputs": []
    },
    {
      "cell_type": "markdown",
      "source": [
        "## **Task 5:** Read the covid time series data. Convert from wide to long format. The final result should have the following columns: states, date, confirmed."
      ],
      "metadata": {
        "id": "jA4uB4FrTdPo"
      }
    },
    {
      "cell_type": "markdown",
      "source": [
        "## Join Operations"
      ],
      "metadata": {
        "id": "xW5SLkf8mrME"
      }
    },
    {
      "cell_type": "markdown",
      "source": [
        "![image.png](data:image/png;base64,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)"
      ],
      "metadata": {
        "id": "yBGfkOzPnXwA"
      }
    },
    {
      "cell_type": "code",
      "source": [
        "df1 = pd.DataFrame(\n",
        "    {\n",
        "        \"A\": [\"A0\", \"A1\", \"A2\", \"A3\"],\n",
        "        \"B\": [\"B0\", \"B1\", \"B2\", \"B3\"],\n",
        "        \"C\": [\"C0\", \"C1\", \"C2\", \"C3\"],\n",
        "        \"D\": [\"D0\", \"D1\", \"D2\", \"D3\"],\n",
        "    },\n",
        "    index=[0, 1, 2, 3],\n",
        ")\n",
        "\n",
        "\n",
        "df2 = pd.DataFrame(\n",
        "    {\n",
        "        \"A\": [\"A4\", \"A5\", \"A6\", \"A7\"],\n",
        "        \"B\": [\"B4\", \"B5\", \"B6\", \"B7\"],\n",
        "        \"C\": [\"C4\", \"C5\", \"C6\", \"C7\"],\n",
        "        \"D\": [\"D4\", \"D5\", \"D6\", \"D7\"],\n",
        "    },\n",
        "    index=[4, 5, 6, 7],\n",
        ")\n",
        "\n",
        "\n",
        "df3 = pd.DataFrame(\n",
        "    {\n",
        "        \"A\": [\"A8\", \"A9\", \"A10\", \"A11\"],\n",
        "        \"B\": [\"B8\", \"B9\", \"B10\", \"B11\"],\n",
        "        \"C\": [\"C8\", \"C9\", \"C10\", \"C11\"],\n",
        "        \"D\": [\"D8\", \"D9\", \"D10\", \"D11\"],\n",
        "    },\n",
        "    index=[8, 9, 10, 11],\n",
        ")\n",
        "\n",
        "\n",
        "frames = [df1, df2, df3]\n",
        "\n",
        "result = pd.concat(frames)\n",
        "result"
      ],
      "metadata": {
        "id": "F_l0BUKxmtpM"
      },
      "execution_count": null,
      "outputs": []
    },
    {
      "cell_type": "code",
      "source": [
        "left = pd.DataFrame(\n",
        "    {\n",
        "        \"key\": [\"K0\", \"K1\", \"K2\", \"K3\"],\n",
        "        \"A\": [\"A0\", \"A1\", \"A2\", \"A3\"],\n",
        "        \"B\": [\"B0\", \"B1\", \"B2\", \"B3\"],\n",
        "    }\n",
        ")\n",
        "\n",
        "\n",
        "right = pd.DataFrame(\n",
        "    {\n",
        "        \"key\": [\"K0\", \"K1\", \"K2\", \"K3\"],\n",
        "        \"C\": [\"C0\", \"C1\", \"C2\", \"C3\"],\n",
        "        \"D\": [\"D0\", \"D1\", \"D2\", \"D3\"],\n",
        "    }\n",
        ")\n",
        "\n",
        "\n",
        "result = pd.merge(left, right, on=\"key\")\n",
        "result"
      ],
      "metadata": {
        "id": "nY_y7kc8ndXZ"
      },
      "execution_count": null,
      "outputs": []
    },
    {
      "cell_type": "markdown",
      "source": [
        "![image.png](data:image/png;base64,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)"
      ],
      "metadata": {
        "id": "X48IdBjyqKPb"
      }
    },
    {
      "cell_type": "code",
      "source": [
        "df1 = pd.DataFrame(\n",
        "    {\n",
        "        \"A\": [\"A0\", \"A1\", \"A2\", \"A3\"],\n",
        "        \"B\": [\"B0\", \"B1\", \"B2\", \"B3\"],\n",
        "        \"C\": [\"C0\", \"C1\", \"C2\", \"C3\"],\n",
        "        \"D\": [\"D0\", \"D1\", \"D2\", \"D3\"],\n",
        "    },\n",
        "    index=[0, 1, 2, 3],\n",
        ")\n",
        "\n",
        "\n",
        "df2 = pd.DataFrame(\n",
        "    {\n",
        "        \"A\": [\"A4\", \"A5\", \"A6\", \"A7\"],\n",
        "        \"B\": [\"B4\", \"B5\", \"B6\", \"B7\"],\n",
        "        \"C\": [\"C4\", \"C5\", \"C6\", \"C7\"],\n",
        "        \"D\": [\"D4\", \"D5\", \"D6\", \"D7\"],\n",
        "    },\n",
        "    index=[4, 5, 6, 7],\n",
        ")\n",
        "\n",
        "\n",
        "df3 = pd.DataFrame(\n",
        "    {\n",
        "        \"A\": [\"A8\", \"A9\", \"A10\", \"A11\"],\n",
        "        \"B\": [\"B8\", \"B9\", \"B10\", \"B11\"],\n",
        "        \"C\": [\"C8\", \"C9\", \"C10\", \"C11\"],\n",
        "        \"D\": [\"D8\", \"D9\", \"D10\", \"D11\"],\n",
        "    },\n",
        "    index=[8, 9, 10, 11],\n",
        ")\n",
        "\n",
        "\n",
        "frames = [df1, df2, df3]\n",
        "\n",
        "result = pd.concat(frames)\n",
        "result"
      ],
      "metadata": {
        "id": "Adqikhl7tCLg"
      },
      "execution_count": null,
      "outputs": []
    },
    {
      "cell_type": "markdown",
      "source": [
        "![image.png](data:image/png;base64,iVBORw0KGgoAAAANSUhEUgAAAXIAAAF3CAIAAAA3i1ftAAAK22lDQ1BJQ0MgUHJvZmlsZQAASImVlwdUU9kWhs+96SGhBSKd0DvSCSAl9FAE6SAqIQkklBgSAorYEHEEx4KICJYRHRVRcHQExIZYsA0K9jpBBgFlHCzYUDM38Agz89Z7b7291sn51s4+++x97j1r/RcAcihLKMyBVQHIFeSLYkL8aUnJKTTccwABNCAAa0BnscVCRnR0BEBsav67vb+LRCN2y06e69///6+mzuGK2QBAqQinc8TsXIQ7kPGCLRTlA4A6hPhNCvOFcr6JsIYIKRDh3+ScOckf5Zw+wWjSRExcTADCNADwJBZLlAkAyRbx0wrYmUgekrwHBwGHL0C4GGEfNo/FQfgUwra5uQvlPISwJRIvBICMnA6gp/8lZ+bf8qcr8rNYmQqe7GvC8IF8sTCHtfj/PJr/bbk5kqk9zJFB4olCY+T7Ied3P3thuIIF6bOjppjPmaxJzjxJaPwUs8UBKVPMYQWGK9bmzI6Y4gx+MFORJ58ZN8VccVDsFIsWxij2yhAFMKaYJZrYl4iwVJIdr/DzuExF/iJeXOIUF/ATZk+xODs2fDomQOEXSWIU9XMFIf7T+wYres8V/6VfPlOxNp8XF6ronTVdP1fAmM4pTlLUxuEGBk3HxCvihfn+ir2EOdGKeG5OiMIvLohVrM1HXs7ptdGKM8xihUVPMeCDSMACbJrKFAGQz12UL28kYKFwsYifycunMZDbxqUxBWx7W5qTg5MTAPK7O/k6vKVO3EmIenXat2YZAL6rZTLZiWlf8DgAzVXIY2mb9lkid1F1EIDLJ9kSUcGkDy3/wSBPTwVoAG1gAEyAJbADTsANeAE/EATCQBSIA8lgPlIrD+QCESgExWAlKAMVYCPYAmrBLrAHHACHwVHQCk6Bc+ASuAZugjvgEZCCAfASjIL3YByCIBxEhiiQNmQImUE2kBNEh3ygICgCioGSoTQoExJAEqgYWgVVQJVQLbQbaoB+gk5A56ArUA/0AOqDhqE30GcYBZNgDVgfNodnwnSYAYfDcfA8OBPOg4vgUng9XAPXw4fgFvgcfA2+A0vhl/AYCqCUUFSUEcoORUcFoKJQKagMlAi1DFWOqkbVo5pQ7agu1C2UFDWC+oTGoiloGtoO7YUORcej2eg89DL0OnQt+gC6BX0BfQvdhx5Ff8OQMXoYG4wnholJwmRiCjFlmGrMPsxxzEXMHcwA5j0Wi6ViLbDu2FBsMjYLuwS7DrsD24ztwPZg+7FjOBxOG2eD88ZF4Vi4fFwZbhvuEO4srhc3gPuIV8Ib4p3wwfgUvABfgq/GH8SfwffiB/HjBFWCGcGTEEXgEBYTNhD2EtoJNwgDhHGiGtGC6E2MI2YRVxJriE3Ei8THxLdKSkrGSh5Kc5T4SiuUapSOKF1W6lP6RFInWZMCSKkkCWk9aT+pg/SA9JZMJpuT/cgp5HzyenID+Tz5KfmjMkXZXpmpzFFerlyn3KLcq/xKhaBipsJQma9SpFKtckzlhsqIKkHVXDVAlaW6TLVO9YTqPdUxNYqao1qUWq7aOrWDalfUhtRx6ubqQeoc9VL1Pern1fspKIoJJYDCpqyi7KVcpAxoYDUsNJgaWRoVGoc1ujVGNdU1XTQTNBdp1mme1pRSUVRzKpOaQ91APUq9S/08Q38GYwZ3xtoZTTN6Z3zQ0tXy0+JqlWs1a93R+qxN0w7SztbepN2q/UQHrWOtM0enUGenzkWdEV0NXS9dtm657lHdh3qwnrVejN4SvT161/XG9A30Q/SF+tv0z+uPGFAN/AyyDKoMzhgMG1IMfQz5hlWGZw1f0DRpDFoOrYZ2gTZqpGcUaiQx2m3UbTRubGEcb1xi3Gz8xIRoQjfJMKky6TQZNTU0jTQtNm00fWhGMKOb8cy2mnWZfTC3ME80X2Peaj5koWXBtCiyaLR4bEm29LXMs6y3vG2FtaJbZVvtsLppDVu7WvOs66xv2MA2bjZ8mx02PbYYWw9bgW297T07kh3DrsCu0a7PnmofYV9i32r/aqbpzJSZm2Z2zfzm4OqQ47DX4ZGjumOYY4lju+MbJ2sntlOd021nsnOw83LnNufXLjYuXJedLvddKa6RrmtcO12/urm7idya3IbdTd3T3Le736Nr0KPp6+iXPTAe/h7LPU55fPJ088z3POr5h5edV7bXQa+hWRazuLP2zur3NvZmee/2lvrQfNJ8fvCR+hr5snzrfZ/5mfhx/Pb5DTKsGFmMQ4xX/g7+Iv/j/h8CPAOWBnQEogJDAssDu4PUg+KDaoOeBhsHZwY3Bo+GuIYsCekIxYSGh24KvcfUZ7KZDczRMPewpWEXwknhseG14c8irCNEEe2RcGRY5ObIx7PNZgtmt0aBKGbU5qgn0RbRedEn52DnRM+pm/M8xjGmOKYrlhK7IPZg7Ps4/7gNcY/iLeMl8Z0JKgmpCQ0JHxIDEysTpUkzk5YmXUvWSeYnt6XgUhJS9qWMzQ2au2XuQKpralnq3XkW8xbNuzJfZ37O/NMLVBawFhxLw6Qlph1M+8KKYtWzxtKZ6dvTR9kB7K3slxw/ThVnmOvNreQOZnhnVGYMZXpnbs4c5vnyqnkj/AB+Lf91VmjWrqwP2VHZ+7NlOYk5zbn43LTcEwJ1QbbgwkKDhYsW9ghthGVCaZ5n3pa8UVG4aJ8YEs8Tt+VrICLpusRSslrSV+BTUFfwsTCh8NgitUWCRdcXWy9eu3iwKLjoxyXoJewlncVGxSuL+5Yylu5eBi1LX9a53GR56fKBFSErDqwkrsxe+UuJQ0llybtViavaS/VLV5T2rw5Z3VimXCYqu7fGa82u79Df8b/rXuu8dtvab+Wc8qsVDhXVFV/Wsddd/d7x+5rvZesz1ndvcNuwcyN2o2Dj3U2+mw5UqlUWVfZvjtzcUkWrKq96t2XBlivVLtW7thK3SrZKayJq2raZbtu47Ustr/ZOnX9d83a97Wu3f9jB2dG7029n0y79XRW7Pv/A/+H+7pDdLfXm9dV7sHsK9jzfm7C360f6jw37dPZV7Pu6X7BfeiDmwIUG94aGg3oHNzTCjZLG4UOph24eDjzc1mTXtLuZ2lxxBByRHHnxU9pPd4+GH+08Rj/W9LPZz9uPU46Xt0Ati1tGW3mt0rbktp4TYSc6273aj5+0P7n/lNGputOapzecIZ4pPSM7W3R2rEPYMXIu81x/54LOR+eTzt++MOdC98Xwi5cvBV8638XoOnvZ+/KpK55XTlylX2295nat5brr9eO/uP5yvNutu+WG+422mx4323tm9Zzp9e09dyvw1qXbzNvX7sy+03M3/u79e6n3pPc594ce5Dx4/bDg4fijFY8xj8ufqD6pfqr3tP5Xq1+bpW7S032BfdefxT571M/uf/mb+LcvA6XPyc+rBw0HG4achk4NBw/ffDH3xcBL4cvxkbLf1X7f/sry1c9/+P1xfTRpdOC16LXszbq32m/3v3N51zkWPfb0fe778Q/lH7U/HvhE/9T1OfHz4HjhF9yXmq9WX9u/hX97LMuVyYQsEWtCCqCQAWdkAPBmP6KNkwGgILqcOHdSW08YNPk9MEHgP/Gk/p4wNwCakEkuixgrADjagchZZFbxA0AuieL8AOzsrBj/MnGGs9NkLhKiLDEfZbK3+gDg2gH4KpLJxnfIZF/3IsU+AKAjb1LTyw2LaPkm3epX6ym3ejvBP21S7/+lx3/OQF6BC/jn/CeUVhyzNWNy0AAAADhlWElmTU0AKgAAAAgAAYdpAAQAAAABAAAAGgAAAAAAAqACAAQAAAABAAABcqADAAQAAAABAAABdwAAAAC/WFoYAABAAElEQVR4Ae2de/wVxXnGQ6tWUYsNYsC2sYgoVaFoFEERjJeokCiCoKJEFIh3LgpoBYMSvIHUgAa8oIiYVDQgJm0QAkXEKoKxWqOtqLSYFLwhpmqgMQn91vk43czu2bNnLnvO7nl/f8Cc2Zl3Zp6ZfXfmnZnnbbFjx44vyJ8gIAgIAv4Q+CN/okSSICAICAL/h4CoFRkHgoAg4BkBUSueARVxgoAgIGpFxoAgIAh4RkDUimdARZwgIAiIWpExIAgIAp4RELXiGVARJwgIAqJWZAwIAoKAZwRErXgGVMQJAoKAqBUZA4KAIOAZAVErngEVcYKAICBqRcaAICAIeEZA1IpnQEWcICAIiFqRMSAICAKeERC14hlQEScICAKiVmQMCAKCgGcERK14BlTECQKCgKgVGQOCgCDgGQFRK54BFXGCgCAgakXGgCAgCHhGQNRKFUCffPLJE0888X/+539OPvnkv/mbv5k5c+Y//MM/dO3adaeddnrooYeqZJbHjY1AixYt6MrOnTv36NHj5z//uUtl/+qv/uqXv/wlEr773e/+93//t4uoEuQVtZKpE1988cUPP/zwpZdeGjly5IEHHohCGTx4cKackqiBEfjjP/5jevbll18+4YQTrrrqKi81FbUCjKJWkscSiqNjx45HHnnkj3/8Y3yenHvuua+++ipftmeeeQa1cuihh/7RHwl0ydAVMbZnz56/+MUvqPnvf//7CRMmdOvWjSnMtddeS8yvf/3rM844o0uXLnQ6j4gZOnSonqgecMAB//mf/0mk+ps2bdqmTZuY2DJUfvOb33we3XT/79R0Lc7Q4Lfffnv8+PE/+9nP2rZtO2jQIKbKc+bMmTJlyvLlyzPkliTFQ+AnP/nJmWeeSb0feOABviJr16793e9+d/rppy9ZsmT79u1f/OIXH3vsMZ5u3bo1vW3jxo373ve+t3Tp0r/4i79IT1nup/LJTejf5557js9Xu3btUCjnnXdeQgqJKgUC6A6mFW3atHn00Ucvvvhi2oR+IUzkV77ylddee+31119nnoJ9DX2BsvjTP/3TUrQ7eCNErSRALJ4eE0ApY5Syrbz11lunnHLKFVdcQRPpehYyGFz4Q6dgSuvQocMLL7zAsogZ62mnnUYarPWslRQe2PLLCIxrm0StJCDYvXv3p59+evPmzQwyvYpOSCdRpUBgt912w87KlATb7amnnjp79mwWPrSMAcBymP2dnXfeeeDAgTNmzGBxRHz79u1ZIBNgVvtf//VfBgbMaD766CMjstl+ilpJ6HFMKlOnTu3du3evXr0w0BopVqxYwcqZqTKfMgKY9IwE8rNwCLRq1YqdoJtvvnnYsGFsNh9xxBGYbLHUsv2HriGGZREa54477qBpI0aMWLduHWm+//3vs69sNPbSSy/t378/T5vZZNtCJvzGsJCfgoAg4IiAzFYcAZTsgoAgYCIgasVERH4LAoKAIwKiVhwBlOyCgCBgIiBqxUREfgsCgoAjAqJWHAGU7IKAIGAiIGrFRER+CwKCgCMColYcAZTsgoAgYCLQuFcNOVL9/vvvm/X1+puT13/yJ3/iVaQpLHQRoeXTnr333vvLX/6y2TD5LQhURqBB1Qo6pVOnTtu2batccw9PIDfQlzs8iEsSEbqI0PJpE2fb//3f/100S1L3SlwyAg2qVpinoFO4/fXnf/7nyRV3jv2Xf/mXBQsWFLqIHJrAnRdOrNMdolacR1wTCWhQtaJ6AJ2y//77B+oNdUms0EXk0IRA4IvYciMgJtty96+0ThCoAwINPVupCY+7776bO+zf+c53asqVMfG777579dVX77fffp9++in34ocPH54xY/ZkGzdunD9/PvIx9xx11FFf//rXs+fNklI3ASsvF3ahp2pyBrMsoEkaOwRKolZ++9vf/sd//AfkgLw8++yzjx0W6blYjl133XWkufHGG6Evjd+IT8+e/hR2BagYoCBTYuHiTk9v91Q34fnnn4es6LbbboNJxE6U5BIEUhAoySII/i4YLo477rjVq1entNb9EVMJvvYtW7Z0FxWVQP0POuggrarwHBJ96j0MVrANvfnmm94li0BBAARKolYgc4N16fDDDw/0nQepDRs2XH/99WPGjNljjz04yuF39LDV4l1meg1bt279wQcfpKeRp4KAHQJlWASxgoDN+J577gGCLVu28P6H2D/SK4i5c+figUzRmtqBHs+FTmHCEo8PFwNQrBnDyRfJzYxAGdTKmjVr8L3Qp08fOhJvPqyDQqgVPUp23313uAj1Ty8B5ll///d/r002//qv/wrhuxfJiUJQYXjeg/w58alECgKOCJRBraBHoBdVQEA9y5bQkCFDvLsHU4sgbCvQtV9++eWOuBvZMdZgr4WOW+8EhVArqgnYhjCsjB07Vuy1Ri/IT18IlEGtTJo0ScOBswUY0vVPXwF2l1j7+JKWKAd77cSJExMfeYnMoQle6ilCSoBASUy2JegJaYIgUBoEyjBbKU1nSEM0AqHvr+dw87scRdjdXxe1okeyBBoFgRzur+dw87scRdjdXxe10ijvktRDIxD6/noON7/LUYT1/XVRK3owS6CxEAh3uTyHm9/lKMJ6QNirlaCr33/7t3+jSah81T3WzUvJCDVR0YvIoQncsUrBUB4JAokIWKqVfFa/0CwlVtpXJKvfoheRTxOwPvrCXOQ0AwKWaiWf1S/Hw/76r/86UDf85Cc/4UZyoYvIoQlMG6FQCM34G6iLRWy9ELBUK6q6oVe/6BROtQeCRq2zCl1EDk0IBL5fsUWn2gGNkrHtOKkVv4NDpAkCFggUnWqHJpePbUdO2VqMZMnSQAgUnWoHKMvHttMQauXJJ5/kOgyWDu7CeRmw3/rWt3r27KlEPfHEEz0++1u6dKkX4dwz/rM/+zMoo5B66aWXqmFBcUcfffQDDzzgpQiEcIn5a1/7Wq9evY455pi/+7u/Y+R5LEI3oVu3brBbcu2bEm+66SaKOP7443nqqxU5yCk61Q4QlY9tp/6LoI8//njJkiUwOcIqhO8IdzLa3/zmN7yEELVCQ4kbCjhon3rqKTqPV/TEE0/k/rH7WP/KV76yfPly5Jx88skQR40cOfL73//+vvvu2717dygaUDqORcBaAJ/L4sWLu3btiqhly5Z5L0I34cc//nG/fv0effRRlDuvKH/XXHPNww8/7NiEfLKXgGoHoMrHtlP/2cobb7yB3ZSbx1yx3b59O8wAjiPyH//xH3knhw4dyqv++uuvw2gNIzR/XBH2S7P4u9/9jmG96667ohlhz4ZngK/9unXrHOtPdmiiEKV0Cj8hvvNehK7kN77xDZCnREVYQ7nhGPZ0ob4Cimpnwmd/l112WWjK0RBUO0DBvgQ8ZHqSyETVFz6JcvjohmbbaYjZiqaGJcD74/i1hw8J/mfmDtOnT2dKv9deeylwCUCJlgh0rZE/+9nPWARt2rQJhQgHpfcifvGLX/zlX/6lrhXV9l6EFk6AmR0qUhdBOPq0kcMloNoB3vKx7dRfrfBa8s1XY5cAP13G8a9+9at//ud/vuiiixDCy7ljxw7N5MYjXzSLegUxatSo+++/H8mqzr6KQKdEP1lU23sRUZBxhNK5c2cNlJd1YlR+uHA5qHbAp2RsO/VfBB1wwAEcQmebEMMVCwpHyrIf/vCHGFMw0/I3b948fmJhYcrHHwHK8jvEmVjxwvO14dgxyzcMExhB3YvAjIpyfPHFF5UoxHovQleSNeN7771HiVi4iHzmmWdC8/7roiVQVgQaYrbClgek9i1atMAg4gg09pTZs2crIWzNsCXENgqGVWJuvvlmX99htQhisYBJCJ9hZ5999jnnnMPMiI0hxxWcqjmkkI8//jg0lBiboLns378/lHd+i1BNYHrYpk2bRYsWHXLIIVhV2HXaZZdd7rvvPsdekOxNjkD91QodgAWEPy898U//9E9aDhMfLGH87Nu3r450DzBf3bp1a1QOtgkmF9EY9zBTBjaAonI8FhFvAgWxwc9ftEQJCwJ2CNR/EWRXb8klCAgCDYuAqJWG7RqpmCBQVARErRS156TegkDDIiBqpWG7RiomCBQVgYYw2RYVvGatd1BiQEANzQ2YA6teOYqw5gZ0UivhSCFVr0BTpEZYiPdXbawUuogcmsBhHwP8HIgBKTE0611o+Tk0IbciLLgBW3Dawhg3WX4+++yzHHPgSEWWxHZp6Pig8qlVCYrIoQkc9uGMPNe1VT9yo4RDxldccQUkXnY9WzWXoq0PR9yXA6teOYrgow43IEecamVTs5ytwELIOx9ubIUeWIzsEnR8Dk1QAytOOhmOGJCuUbzo4Yj71BQ4nHyaUI4iqn4AKiWwVCtKXLixFXpglaPjcxi7lcaNxAsCKQjITlAKOPJIEBAEbBAQtWKDmuQRBASBFATqr1bghRs2bNjChQtTalnroyjp5IUXXtiuXbvhw4fXKqRSes3YqEknuUoDjRPUc5WyWMQbpJN+i9BN0KSTH330Ec2BcgVDqUVtJYsgEEWg/mrl4osvHjJkSLROjmFFOgmRn9ochcUSYidHmUZ2tkKgaGQ7DLo5uNS4uLxy5UojjctPaBwguJs6dSp0mewiH3rood6LUE1Yu3Yt3DSQTnJx+bHHHhs9erRLtS3yFovGmAZqjaw/Kn5phinC+KL4la/rr78olOidxrj+aqV169YWwzElS5R0kmTh9kEV6SQkBsyG2OhNqVKtjwzSSYgjvBehq6RIJ59//vm2bdvqyHwCisYYTgy2FOfOneteaPSLQu9o5p3x48d7pLwzPiqKZnjVqlUwMRtX2y1aFP+i+JVPlYwvCt9FRWM8efJkaIwt6hzP4vNliEuvSwxzk/PPPx8yBF9U+/FWKLISdijhbYOFO57AMcYgnXSUVjU7xA7hfF2nlF5cGmMapT4q3pmMjS9KQWmMy6ZW4Gpj1cDEno8wLyfvf8qwtn6k9P369eshLoEmylpOpYyQTnKYtdJT7/GQToab06XUltkKrHcqAQF+piTO8ij6RcGRg2bnJeCLxphqRD8q3pmMjS9KQWmMy6ZWDNJJyOKyDEfrNHDBvfPOO9bZK2U0SCeV85BKiR3jFenkEUcc4SjHInsgGmP1RQlEY0wzox8V70zGxhclBxpjTlF7pzF2Og5nMZLiWe666y4++xDBYv5kDRxPUFNMnHSSE6LQrL399tvs1MDkiE+GmgQmJlbfK6bBinTyzjvvxLEOh9MoAn/AHTp0SMyVPTJOOsklKb9FqCZo0klQ4m185ZVXmDVAnUunZK+tdUqohWkUNMYMa180xlgiqA+WDk1jzM8QNMaIjTIZY/wCtyhltx0sfFGuvfZaaIyVOxdNY+xLfrRWmsaY9w5rvUca4/qrFXaCok11DCeSTsJi6yg2mj3O2Hj5Z3/RNO7hOOkkhbiLVRLiTSAeP2S+5GeUw2ylcDTGNM34qPhlMo5/UYpIY1x/tZJxCEqyUiLwfyTGxaExpgviGtk7k3H8i6KuqnsZAPH6I/b/SIy90hiXzbbiBXoRIggIAi4IiFpxQU/yCgKCQAIColYSQJEoQUAQcEFA1IoLepJXEBAEEhBwMtkK6WQCopGo0KSQoeXTlDjpZKR9EhQEkhGwVCvQW3ILZsGCBclSfcQi3691Ol6pEhSRQxM4LmXBZhpHW2KaBwFLtSKkk1mGSGhSyNDyaSNn/GAzjZNOhpuoUmhogvQcZnnlKMJ6rmqpVtRLJaST6colNClkaPmJrcthokq5oWdhoeXn0IR8irCbqzqplcRhJ5HlRiD0RBX0QhOk5zDLK0cRleaqVUe4qJWqEEmCBATCTVQpLDRBeg6zvHIUkdDx2aLqr1Y2bNgAhQ+TUv64H/SlL30pW83TUkE6+eqrr3JNC3oBqOfwPcIfdyu83NOFX+uwww7jhDXLAQLTpk2DXW3btm1cmeOm2amnnppWs8zPoAgbO3bs9u3budDYp08fiHY8FqGbwFXDffbZBxq6jRs33nDDDcxEuIo5f/5879xamdstCcuAQP3VCtdAubK52267Qa73yCOPQBTmiKuiCOOmBgYniDZgyYWAEi0DCQtutByFq+xcjVdkBSeffDJcRPfddx9kTu+///4xxxzjRa0oirDFixera6zwUaEc/Rahm8ANQ9TiT3/6UwguoZ6cNWvWd7/7XZg6vQAlQpoTgfofh0OtoFNAH5IBJizu3RAlnUQ4OgWZvDAYn9yFRyUofjCunCqCOK72t2jRIprAOmxQhKG8vBeh66ZIJ2FyAiIiQwCly5JAkyDg4TX2ghSzfai9YIp0lxalCFPSeP+hmPbF04nMKD+YeuGJZJ515ZVXutcfCQZFmJbpsQgtk4AmnYSVZubMmSwho08lLAjUikBDqBWsEky8zzjjDG5t19oAI30i6aTioDzllFOMxNY/o/xginSSVQP2CF8vpEERpurpt4ho2xXpJCuvgQMH3nvvvfvuu2/0adCwd3cuQX25AIVmrtfM+xza9OvOxWDe9ytf118z74fw5VJ/tYIxFcryI488kna6j+A46SSGT5i13E02iXVjkQXpJPV//fXXsd0mprGIjJNOei9C10pRhOEzBAsLRq6jjjpKP8oh4NedS5R5n8qH8OWCWPVRCeTOJc68X0RfLvU32dI9GGuZZWBPZUGBtzCX0WyQTkI+htrCknrccce1adPm0UcfdRGu80b5webNm8ck6+ijj/7qV79KghUrVrgbcQyKMHaCJk6c6LcIg3Ry9uzZfCRv/ezvpJNOmjBhgm5s0IDfLSdlVuvSpQvDAMTYBUfdB6q/tqzx0WIK4KsUw6zGAEayR/nRemJWo8Px5cILEo13D9dfrdAkj60ySCdDXGaJ82uhudx7wpBgUIQxjzASuPyMN+GQQw7xaHtyqZtLXsxqzBlZxE2fPh214iIqJa/SyJs2bcKji7aspaSv6VEls1pNQrIn1ma17FmypKz/IihLLSWNIFAVgUSzWtVcFgniljULIZWyJJrVKiV2jw/ky0XUinvXiISGQCBuVgtdLWVZ81tK3KzmV35UmjKreTkjGhVLuP6LIKNC8rOpEPDozsUwq7ElxKFh775c6J2oZY0TyX7duRhmtf79+xfRl4uolaZ6ixuusR7duRhmtddee43W+vXlgsC4Wcq7OxfDrEahhfPlIoughnvTpEKCQNERcJqthOPyCU3kQ7eVgGgnhyZYE/kU/cWQ+rsgYKlWcuDy4X6QkE5W7docULIj8qlac0lQYgQs1UpoLp/QRD70aAmIdnJogjWRT4nfGWlaVQQs1YqSG47LJzSRD/UvAdFODk2oOoAkgSAQR0BMtnFMJEYQEAScEHCarTiV/Hnmjz/++JZbboFshXti55xzTufOnT9/Yv8/ZxYUOxwiuA3Ev5Ry1VVXId9e6Oc5uaARZYeD9wixHOX+5JNPzj333DFjxnye0On/KDvcgAED1q1b57EI3QTNDgdTzLBhwyBb+fTTT2kRe5xOtZfMzY1A/dVKy5YtJ0+ejOmRq8DQI7gfNIiyw7Vv354DUbwtXAzlVfGiVhgwmloNgqWXXnqJ24YUAb1Dp06dhg8fvueeezoOKoMdjiZwcsFvEboJih3u5ZdfZl8J5cLpjylTplS9kxluExDoQu8D5rCDVo4irPcB669WUCjqJeRr7+XilnGNlbcR+ZBKcJvO8W03sus7rKoIvvzwbqAljWQWPxOvsSLHYxG6VsY11g8//JAbwPppPJDDJiCFht7hCi0/hybkU4TdPmD91QrowAILfzWTfKgl+On4Z1xjZfJy4oknsiZynwfpisXvsHLIGkbuSy65xJ0VgVISr7H6LUK3hYC6xrp27dqRI0dS9KJFi6JPjXDoTUCKC70PmMMOWjmKsN4HbAi1At0sjDvvvvsu5O9Mzo1xXNNPfY2VXLwhvP8IhPx5y5YtMEUNGjSoVatWNQlMTKxXEKNGjYIdbty4cbyKTCV69ep11llnHXzwwYm5skdyjRXbipHebxFR4eoaKzRaa9asQbmw4OLfaIJ4ONwmIGWF3gfMYQetHEXE+z1jTP13grARqrqyfIBlOmO9KyUzrrE+9NBDigwFPxUId5dvlMsdVvhfmRARj3C4vhXdt5Gs1p/GNVZo8b0Xoauk2eFUDL4KvKzjtHwJNCEC9Z+t4KGGa6CsdTF5Dh061LEPjGusCIT8im0mLAKc2WUC7yhfZTfusCoKL4pgqoKR2L0I4xor7HBwviLWYxGqCcywIM1jHoQfIqiP1AoOw7l7E0RCMyNQf7VywAEHsPbx1QfGNVZrU3ZKfeJ3WHknU9LbPTKusebADnf66afbVVVyCQIGAvVXK0aF5GfzIFA4h5Z0jT7yw8wxkE/L6JGlgjq0FLXSPG9xw7UUy1ThHFoCojbYh/BpaRxZKqhDy/qbbBtusEuF8kIAtaIs3IVzaAlC+tSSOmyFwd6LT0vjyFJBHVqKWsnrHZJyKiBQLIeWNEJZu6Hd/+IXv6gPcPpyOJl4ZIlCfck3OkEz7/t1aClqxcBZfuaKQOEcWoIOiyCM9OvXr8d4792nZSLzfuEcWjrZVtSxpRDDkKNxiFVnikLIR6baJCp0ETk0ISg+IRxaclCYzl21ahVHDThvHc6hJaUo5n3lcJJ7YV4GKkeWsDe9+OKLXbt2ReDy5cvpApyo+ZIfraQ+suTdoaWlWuFcLKtiAI3W0m+YkyznnXeeX5mGNI5pFL2IHJrA6Ti624DOy88iOrSk4dFTS959WsaPLBXRoaWlWmFJyTVT7vJ4GV6JQtjA83V6LVE+kSUoIocmoFO0BaESknbxhXNoSTPjp5a8+7TM/8iSd4eWlmoFfBlqgUab3RiVXIKAINAgCIjJtkpHYJzjAjSTArb6+IzMnDlz/Pjx8KoQJga7fZX88lgQaD4ERK1k6nNMaBCRwNiERfD444+H9IgwTAXcYM6UXxIJAs2EgKiV5N7m6nPHjh3hUoA8bceOHbBJwtiCcf6ZZ5455ZRTdt55Z7LhvJZ7ksn5JVYQaGIERK0kdD5Hg1jpwNIC7chbb73F6ck5c+YcddRRzFmOPvponQH/wagY/VMCgoAgoBAQtZIwEp577rmePXty5AGFUmkH+p577mEpxOZfQn6JEgSaGwH7naAS48aqJ711CxcuxHaLNdcLaVN6WfJUECgcAqJWErqse/fusOpu3ry5bdu2GFmMFHC1sc8PsUugQ2JGcY35U5j30/ulyZn3v8CXWf7iCEBYh8mWpRAnqU844YSVK1fyr0oG79S+++7LBjN/OjIuoawxGK05AJ3+Urk/DV1EaPkgUI4iOMZNj9c6mFuQwX0QiITmQeCFF17grh0XamHJDtRqYd7PAmwO5P5cR8K2yGWFww8/PEuVdBpZBGkoJFADAsK8nw6WuqIJeUKtL2S62OjTHIqIFldTOPhstqbaSGJBQBAoAQKiVkrQidIEQaCxEBC10lj9IbURBEqAgKiVEnSiNEEQaCwExGTbWP3RVLX5+OOPb7nlFvix8dl4zjnndO7c2b353/rWt7i9hT9sRB133HH8SylXXXUV8t2FI8Fw6DFr1iwk4z78k08+4eLYmDFj3EuJOvQYMGDAunXrPMrX9cfz3D777DN16lSOkg8bNmyXXXbBvyjN4diEexMaV61wGScoTRTY5cCBFLqI0PJBKRyNE7xzkydP5nzHO++8gyvFm2++2XFAo57Y/4b2GTpO3EsuW7aMtwUXGbwqvtQKNYw69OAiOwRxlAIpL3QZw4cP33PPPV1aYTj0oAm4xPYoP1p/rtFCN8kdFA7voVw44TllypRHH33Upf4qb4OqFXQKnbRt2zb3FqZIYEB7p/YyigtdRGj5NIcLCjABhqDsovIKLj71XuRDznraaad16dIFIluua/E2Iv+jjz465JBDjH5x/6kdeqhS+Pjvt99+7u6rDYceyg8vtfUlP9rwb3zjG7feeivehKHpIx7qD6CLJrAON6haYZ6CTsnhzFWhi1DHxoI2ARZ0GIvpDi+vfXyYInnGjBlM8rktEX9aawyc2NOmTeMMNP6kUStMXqDgYk3kPg+K1kRx2VJnjqUoWGDeYdl1ySWXKCfW0cS1hhMdeniUb9RHOfTgpj5EQhSNN24jgd3PBlUrqjE5nLkqdBHK80HQJtiNquy5WGHhrQJHC/jhZnGRPWM85a9+9Ssm8xdddBGPeEN4+REIu8WWLVvgzRk0aFCrVq3iuSxi9CIIEi8ceowbN463kdlEr169zjrrrIMPPthCps6CQw9sK/qnCniUb0j+5S9/yfjp1q3bmjVrUC4suPjXSGPxU3aCLECTLH4QwEaoBLF2wCugo9Af/vCHV1999ROf/WHv4I6oWuHuvvvuCHeXH68eDj2g5mFOxCPks1rkL56sphgceqAcYfZRubjX6ld+tDLaoYeK3GuvvdwXcUpUQ89WohBIuHwIwK3HlU4sLNg7hw4d6thA7CmzZ89WQmDbQiBWA7aZsGpfd911Hr04RB16UH9l/qAUpirYiR1bEXfoceONNyLTl3xEqfozvWrTpg3zIPg9WDOq5RuGc8f6q+zlUSt33303Mzpm1F5wMYQwS+dLiE2ODyxDB4O/kcD9p3rHkM83FiY6vlruMqMSdBMYoCwHuELGujqaIP8wd8FZ+/gql40MLQpWUOWbTcf4CsQdevBa+hKu5LBvxQaQlskdeh12D8Trjz379NNPd5cclVAStcLnjmGET1xeHnbjoy30Fd5///356CGNrweb/3SPL8nI4dPBCQJW6Uos25YehWtRugl8xjFt3nbbbYqUVyeQgCDgBYGS2FY4rQBhNcefVq9e7QWXSkKYSvC197UE1aVQ/4MOOkirKi9HkrTweACsmGy/+eab8UcSIwi4I1AStcL2Xu/evbmEHug7D9AbNmy4/vrrOUa5xx57eOeFY5/Vu8z0wdG6desPPvggPY08FQTsECjDIogVxGuvvQZnNRCwm8j7z2zfDo6UXHoFMXfuXM4scewqJXGtj9ApTFhqzeWSHqBYM7pIkLyCQCUEyqBW2HLH5tSnTx8aydkn1kEh1IpGkA1LziPqn14CzLM4yqVNNpxc8HXeMbF6qDAOiXfo0CHxqUQKAo4IlEGtoEdGjBihgDjwwAPZEhoyZIg+GO4IkM6uFkHYVtiK49SQjvcSwFiDvZajFnonKIRaUU3ANoRhZezYsWKv9dJ3IiSOQBnUyqRJk3TDOKfAYXD901eA3SXWPr6kJcrBXhvU65DfJgjzfmIn6sgmZ94vg1rRfSmBHBBgssNMcMGCBUHLogi1nR+olNDyqXY5imBuTo/X2guiVmpFrNnTc1yVlWDQ+43CvJ9lkOXGvG9xQFnUSpYelDQmAkHvN6orlOFo63PgrC9HEWavZ/5dknMrmdsrCQUBQSA4AqJWgkMsBQgCzYaA/SIoKCmkmkPmsN1Q6CIgbWO8Bm0Cd6ya7ZWQ9rojYKlWciCFzGe7IYcdjaBF5IOSxV6A+9AUCcVFwFKthCaFDL0XQIflYEgPXURo+aDEtBEKBYu9gOyvBFyzMB5ecMEFsKtlz1UpZZR5nzRwIEHXBveKrzNBmrkeVXvYYYdBVa9qQuU5ijlnzpxKFcsebzDvX3nlleT1JV/XnysvHGXi3ryis+P6y6GHHrpy5cqePXtmr2qllJZqRYkLtx0Qei+A+pfAVp9DEyqNG4/xCxcu5Pa2F4EoEe4laOZ9ZH7ve99zZIGMV0yTTp588slcbeW6+WOPPQa1WjylRUyceR8hHuUjTddfM+/z2eAarfJ/YlHneBYx2cYxkZj8EIC0ET8+vu5wKeZ95iYwxdEGrm4tX74cfukQ7dHM+3D9wEp32WWXeSklzrzvV360kjDvM2GBfAfGXw55M0uIPnUJi1pxQU/yuiKA4enMM890lfJ5fq5rnn/++X379l26dClxEG7B6ff5Q2//K9JGjtVwBRzm/bvuusvjOjHOvO9XvoECMzs4FW+66Sa/QDWKWmGBzeoarWk02+4nC+zoEpG5MfyGuFayk2bkYnUKNzIzxh49ekTdULD69UhGyQIbklRk4sMFendVB19F6CZAuQ67Jde+lXwW2Nw/VC4BjVaH+Ll+/XqcdbVt29aLcM28z0dYMe9DGAhiXoRHhbCIgGiSyvOFZ1AtXrwYtRJN4BKGeZ/9EC2BNZFf+VqyCqBT3njjDdye+FrEKbFOthWjii4/i7XA1qvTEKtrYCzHArvqeGBAw+DLnIKlEMz1+PdB+1fNVSmBYt7H+kuCVatWDRw4EIV1yimnYKfDvIoFBHVTKa9dPF8X9Au+0yDlgBNr8+bNmGwdPy1oechrYd7v2rUrtWJ5xWDwKD/aUsW8z/YL3zBWi7g35MgC80c4m6PJLMINoVZCLLC1azu1wGaQoZgtAErJYqyucfTrxdEkJVZaYHssQrdLu7ajOXx+g2766EJVgLeFP8KPPPIIKsBFpyDEYN5n2gVjBjflHnjgAbreo04xmPcV0zj6BV4LR51CKwzmfQxDynGPL/kUYTDva5eP2KSov7tOoYiGUCsoSJwh+FoBGa7t1AIbqhFa6+tPdYz2a8cnxePqmkrWZYEN88PDDz88evRoXyhll4NvsOyJK6U0mPdZ0KmUvC2VsljEo3m3bt0az8iimL94vEWMwbyvJPiSX6n+lIL+tahtYpb621aKuMAOurqmn8qxwE4ccBLZDAjUf7ZS6AV2iNU1w64cC+xmeH+kjYkI1F+tFHGBHXR1TT+VY4GdOOAkshkQqL9a0SgXZYFdaXXqa/WrACnBAlv3rASaDYH621aaDXFpryBQegRErZS+i6WBgkDeCIhayRtxKU8QKD0CDWRbKT3WZWpgUO4oRU8F7YO6ou0dt3J428ihFdx+sAPfSa0o+gK7gtNzKVKyQKNKFa0gK3QROTQhjg8H4fPhjhKHHunvCE9z8Bli59CjxY4dO6rWPp6A21CQ1hSdNKxFC8vmxwGpFBO6iNDyaRe3dTixylVd1UYITTgNKA49KvW4is+BYSuHIviocHyc4xQ4801vr/HUfraCpjRk+f2JfPzR+JVpSMvhnQxdRGj5IEYRBm78DMfghfDQJF5qChbOYQhNKEcR8X7PGGOpVoR0Mgu+ob8noeWr14PvFd2tZytZGi5pmhwBS7WiUAv3yQr9vaL+Jfie5NCEJn89pPl2CIRdyNjVSXIJAoJAoRFwmq34avm5557bsWNHpMHldfzxx7uLjdKvt2/fXlFInHTSSRMmTHAXrrnLNfc6x/YJw1TSuXPnO+64w70IJBj06z/60Y88FqGboOnXW7ZsCY88NwYoety4cfA2emlFVSHF6nqao6EL1/sl6PqGUCtwgkL8XXUIZkxg0K+zQwYFTsa8GZMZ7HDkgsBJ0flklJCeLM4Oh1rxW4RugqJf518dk143v08L1/U0XwOluAGJ8dg15ej6hlgEQeA2adKkadOmefGhZ9Cvs4P+1a9+FfJBiPz8vhKaHY69krPPPptSokxCLmXF2eG8F6GrB20a9OsYZfFNceyxxw4ZMoSwfho6UNCuB5ZAvV+Orm+I2QrOXKACYFhDMv7tb3/bcSgb7HDPPffc3nvvjfDBgwe/8sorjsJVdoMdjo8VRUDpBtUw7hGgfXYsJc4O572IaA0V/ToEetT83nvvHT9+/P333x9NEC5cuK4HiqC9X46ub4jZCjqF3mJh/9577zmO4Dj9Oi+8Er777rsn0gValMg0mIWV4l6HFl8VAaUbTYCVykKgkcVgh+Op9yKiJUL1imZR2hBjB69N9GnQcOG6HjSC9n45ur7+amX79u3q2BvGMDXIXMaxol9/4rO/efPmwVqMfASyY81826/XAsTCDge/N+thwvgkgbscNhbCjn+ww3HjQ6/afvrTn3ovQtdQ0a/jKFPFrFixolOnTvpp0EChux5kQvR+Obq+/osgPpX33HPPbrvtRj+NGDHCcRwb9OsXXngh04o99tiDlfDdd9+deGDUokQ1DUbmTjvt9OCDD2JVof6ffvophmeGmoVAIwvq9fHHH2dHRr14mD+uueYav0WoJrAT1KZNm0WLFuF8d/LkyUxYOKrPOsioT6CfRex6oAja++Xo+vqrFdw44F/a18CNGk1x6fDmm2/6kqzlxNnhQqwaDHY4v07n4k3Aq0O/fv10G/MJFK7rgSUOnffeL0HX138RlM8IllIEAUEgNwREreQGtRQkCDQLAqJWmqWnpZ2CQG4IiFrJDWopSBBoFgRErTRLT0s7BYHcEHDaCQpHaBqazRR8c6ACDV1EaPmgZM1mmtsIloIaEAFLtcL1zdCEpjnwdJagiByaYMdm2oBjXaqUGwKWagUSAI7GhiM0ZR60YMECzsjCDBgIixyo1UIXEVo+yMMUBTsc3W30QriJKgWFnqvmMMsrRxHWc1VLtaIGmbDDGS+b8TM0e1to+UZz1M8cJqoUFHoWFlp+Dk3Ipwi7uaqTWlHjTP5tKgRCT1QBM/RcNYdZXjmKqDRXrTrgRa1UhUgSJCAQbqJKYaGZjHOY5ZWjiISOzxbVEGoFpo8f/OAH3Nzr0KEDK/lsNU9LFSWdRPioUaM++eQT7v5zLTAtW7ZncdpBeI8uu+wyWB24ebhs2bJsYqqkMpgHv/nNb3osQjdBk04efPDBS5cu5XIWJjNuNl555ZVV6iePBYHKCNRfrfz2t7/l2vHYsWPVJebKVc36xCCdvPzyy++777527dplzZ8hnUE7CK8d7FPc1suQNVOSOPPg6NGj/Rahm6BIJ1evXg0L75IlS3bZZZdMVZREgkBlBOp/HA4yJC7jz5w584Ybbnj11VcrVzXrkyjp5MaNG/kgM1vp3bv3woULs4rIlk7RDsK68POf/3z69OkUMWvWrGxZq6QymAdPOOEE70XoGijSSXj5oJU97bTT4Gf1xaGni5BAsyFQ/9nKBx98wMvP9BtuESg/br/9dkdWlCjpJC8k9j+0FUwiRx99NMQovDzufawYNzZt2sT+NzoR9iYoowjjNgAWfhYUjkUYzINQ/HovIlpDRe4Nrx3cNBgFWEKq/dFoGgkLAtkRqP9sha897pxxKMELz8uvaNCyN8BIaZBOso+Ikw3si7DjdO3a1QsjJCVGaQc5XLPvvvvCkcHyAZ3CtMKoksVPg3kQZLwXEa0VdEr8RCfSBBriTv0ZFZ4exvI1ZcoUJqrAmJ4y41N0Ys+ePVVihDMXo11YpjJmr5oMsxRMXXR0jx49Lr30UtJjWTvrrLMo5Wtf+1rV7FkSYFZDFM5tjjnmGChN/crX9e/WrRtMdGp9gFmNDzAfXYrLUsOqaeo/W8FDECffWFBgE0GnKEbVqvWulECRTo4cOZIEq1atevjhh1kEQQeJ4QYE4eCplNEunhHGS7j//vvj6x53osxiBgwYYCcqmov+vvbaayGdRBUSj+HDexG6OEU6iecAzDdE0hB36k8tPD1QRLMaLdJmKeXQw69lrRxmtfqrFZirTz31VOga0SzwMzO/SB+L6U8N0km+XVhtkA8jJIyWeK5Iz57xqVoEUWG2fubPn8/3BD8YFMEnCydeGYWkJDOYB/v37z9jxgy/RagmaNLJgw46iI8VX0haQVkpdfP4SJvVWP8OHDjQffGozGpdunRhGACXMqu98847fGa8qPto2w3LGjyEzFnU/CWarNZw3KyGIwQsd77kR+vDVO7WW2/VZjVc3zBb8bLzUH+1QjsZzfxFG2wdNkgnX3vtNUTxVbEWGM8Ypx3ENsHMKJ7SJcZgHkSUxyLiTUA+w5c/lzrXmreIZjXaGNSyVg6zmtPUoNZhJOkFgSgCRTSrUf+glrVymNVErUTHuYRzRQCz2ubNm1lNbNu2zZdZTfty0WY1LDghzGogFbWs8ZNZjHIl7gKi4dBDm9V8yY/WTZvVqDnxHs1qDbEIijZVws2DQBHNavSOWgQFsqyVw6wmaqV53uJGbGmxzGogGDdLebeslcCsJougRnzZpE6CQKERcJqthOPyCU3kQ5+VgGgnhyZYE/kU+q2QyjsiYKlWcuDyEaKdLF2bA0p2RD5ZKi9pyoqApVoJzeUTmsiH7iwB0U4OTbAm8inrCyPtyoKApVpRosNx+YQm8qH+JSDayaEJWcaQpBEEDATEZGsAIj8FAUHAFQGn2Ypr4ZK/sAiEs9YDSWiDfQ6m7nIUYW2wr79a4Wzf/fffz2DikhtnLlXY8XXTpJNcL+YOm5JGT0NcwslIR+GasRG7NRcLoW7iUjmHoxD73HPPrV27FioGxyLIbpBOciDSYxG6CVzG4/olZDesOm+88UbKhVkCM7A6dpnYihys9ZQb2hQdWn4OTcinCDuDff3VCnwCXF8Go6effloZCwi7/Bmkk1ATIe3ZZ5+FI8pdp6iKGVfjV6xYQTxvJjQZXnRK/Ha8Ipf1WIRugiKdhCbqpJNOohU333wzr5xqZuK/oa31FBraYJ+DqbscRVgb7OuvVvTYRa3069dP/7QORG/HT5w4UcnhprwX8u1orZg+8LXX7CSw0g0ePDiawDps3I7X/EAei9B1U7fjn3/+eUiDiKQIANRPKwXCWespMbTBPgdTdzmKqNT7VePTvktVM3tMwPeZFVCnTp3cZfJinH/++X379oXzSknjshmvihedpQSqWyGwTMLbxmxLReI8AL4Y9/ojwbgdr2V6LELLJMDxc/UmQxzVunVrLtFGn0pYEKgVgUZRK8888wxcs7XWPp7eIJ1UNgL0y7HHHsvFtnh6u5jo1XjF0wetNNf8uTBiJ9DIZdyOV0/9FhEtEdJJZh/EKPaj6CMJCwIWCDSKWmEFxJtv0QAjiyKd1LfjeU9IAE+q9xWQKhdjDeRj3oswbscvX77cexGq/vzLPA7D9hFHHIGHoMWLF5955pn6kQQEATsEGsK2wpvJmIYF2q4N0VzokdmzZ6sYpj9sCU2aNGndunW+GJiVZONqPGx9ixYtWrNmTbQmLuH47Xg2m/wWoZqgSScxxEKsx8aWNhW51F/yNjkCDaFWvvSlL910001eeiKRdNIX4b6qYfxqPPGK3dJLE5SQ+O14j0UkNgEiXv48NqGqqMKdLaBFem8+3PGChj1bULVDdYKGUCu6NhJoKgSKeLaADtJ784p53+/xgkY+W5B9cDaKbSV7jSVl+RDwZVlTZwuGDh2qbGoKKMIhLGuBjhfkfLaAw5CcLVBAeTy+IGqlfC9pwVpUrLMFgBv0eEE5zhaIWinYS1i+6hbrbAH4Bz1eUI6zBaJWyveeFqxFvlZAOZ8tAOUQxwvKcbbAyWSrjmaGGMXcCUSslytClaqnbmcWuogcmhAUH7qmcGcLqHPQ4wXlOFtgqVb23ntvvBrfcccdlV5a93guvIWwtEUrxu3MoheRQxNatmxJd0dx8xgu1tkCGp64N+9x758iSnC2wFKtsDUIKQa+hz2OMEMU5wI4o2VE+v1ZgiJyaAI6Rd978ou/SCsrApZqBTgYas0w2uBVmDJlitq5fPvtt4cNG8YEAW/Y/LvzzjvfdtttvXv3LuvgkHYJAnYI2KsVu/IKmourvR9++OFLL71E/dkQveyyywhwGvL000+3ZtAqKBRSbUGgKgKyE5QMEXeI8Kd75JFHwnLElR8YD/Dj27VrV3ZD9a2Zjz76KDmzxAoCzY2AqJWE/mexM378+KeeegoGSe6ttGjRYs6cOUcddRRzFsXewM8DDzwQAqR58+Yl5JcoQaC5ERC1ktD/UNL27NmzXbt2KJTEraLhw4evX78e+oVrrrkGjssEERIlCDQxAqJWEjqfVU9CbCyqW7dupMTCEnsiEYJAUyMgJtuE7u/evfull14KCWbbtm3jRC3srCtyTAIbNmzYf//9E0SUPUoceqT3cJM79PgC31v5iyMwf/58TLYsha699loolFauXMm/KtnFF18Miy1nlpitLFmyJJ633DEYrdOp+dPft4xPQxcRWj7NLEcRHKSgx2sd0i3IkLGnJZkgAAIvvPACd+2uuOIKRX8bAhNx6JEF1Rx8hnB1A9silxUOP/zwLFXSaWQRpKGQQA0IiEOPdLDUXSpmtbW+kOlio09zKCJaXE1hMdnWBJckFgQEgeoIiFqpjpGkEAQEgZoQELVSE1ySWBAQBKojIGqlOkaSIhwC991334QJE/72b/8WMicvpeDChf07JQp/0ly/YMNOuYjzIh/mfdibjjvuuB49enAKAZkPPPAAXpb4edVVV3kpgpNQuMft1asX7mupuV/5uv7AAmUUV1I4zzlo0CC8dHGuIuq4wqUtYrJ1QU/yOiHAxQgcKt54443bt28fN26cVgfWQnlD2KjC9yv3P+FzmDt3rrJrHnzwwRdddJEvt5YG8/4NN9zw8ssv49MSdygUh5nWuv5kjDPvU3OP8ilC15/7bngQnjZtGpVfvXo13TFw4ECOmLvUX+WV2Yo7hiLBEgE8WEOpg4fsbdu2MbItpUSyRZn3oRmDuAPJ/BGGxSKS0ENQM+8feuihXDr99NNPUWp77bWXo+g4875f+dHqcakN5n30L13AQZMPPvgAVq1oAutw485W0J1BaaKALAcOpNBFhJYPSuFonJg+4Mpy1KhRvJAsXqwHsc6ISwq+vcicPn36xIkTmeQfdNBBvDCEd9llF53MMaBIJzdt2sTEBM01ZMgQdpF33XVXPvXcI3MUHmfe9yvfqB4zOyaM6EQOjuO//Ec/+pGRwO5ng6oVdArt5Dtj16qMuTgHiZPWjIntkoUuIrR8Ws2nnmsKISi7MCLAZQt1KT5b8WnLwWWXl5+3giPzLBmoMy8nk/kf/OAHb775Jj8xhaBifDVBLyJQiHjj5BY7a58999yzf//+7l4EYN6P3jJjHsQ5b4/yjWGMTqFz27RpA28mL91pp53GNX0jjcXPBlUrzFPQKTkc5Sx0Eeo0atAmwILOa093+Hono2OUeQQTFjQjmot5OMuK6NNaw4p5f+TIkWRctWrVLbfcwqvOJIKfyA9BjoPtloUDqpCCOOTOmm7r1q21VttIj/pDj/BuQ+7DI2yofuVHi2PN+N5773HxjZv6xLOC84VSg6oV1fgcjnIWugjl+SBoE6Kj0Hu4S5cufN6vu+46dMpJJ53Ey+9SBN4LZ8+erSRAi8OqiukDGzRMSNlVOeSQQ1yER/MazPsdOnSguJ122olLp7hPjaa0CMeZ99lv8iifKqn6M0NkkrJo0SJIvwcPHgx3KjGYzy3qHM/S0GolXl2JKRMCzFPUHq2XRkU3RzHQ+mXD1zWMM+9f/tmfTuAeiDPvU4K7WCUhXn/iH3/8cV/ylZzyqJW7776bheJ3vvMdvwApafgtuvrqq/fbbz+MW+3bt4fGyXspGzdu5No08vm6wkTHZNhvEboJWHlbtWrFFTLMdX6LEGmCgEKgJGqFWTRHFVjc8vKwZxaid5niMl1HMhNFzhSh9T2Wwvxz6tSpnN1QYhUXt0f5SpRuAt682THBbYD3bVfvdRaBRUSgJOdWOATFSUcM/pzqCdoNTCX42uORy28p1J+tUK2qmAb7lW9IAyvW8GqXxHgkPwUBdwRKolY4+o3NieMDgb7zAA0R3PXXXz9mzBgObnGUwx36qAS2WrzLjMqPh1u3bs0uRjxeYgQBdwTKsAhiBYF97p577gGOLVu2BCKC1CsIjoRzFJIdfnf0tQR0ChMW/TOHAECxZsyhICmiCREog1pZs2YNbsD69OlD/3F1inUQKiBcX3LUAldkfuUzz+KEqDbZcCCKzVe/RUSlocK4e8LOaDRSwoKALwTKoFbQIyNGjFCI4L6HLSHOO7N56QsjJUctgrCtcPDJ44afEo6xBnstdNx6JyiEWlFNwDaEYWXs2LFir/U7QkSaRqAMaoVz3//fnp12mjFjhv7pK8DuEmsfX9IS5WCv5epK4iMvkX6bIMz76Z3S5Mz7ZVAr6R0sT/0iwGSHmeCCBQv8ijWkUYTazjfiff0MLZ96lqMI5ub0eK2wi1qpFbFmTw+VASvBoBeRhHk/yyDLjXmfHs9Sn2gaUStRNCScFYGgF5HUXadwtPWK2ymcfEAsRxFZR0MsnWe7Zky+RAgCgkDTISBqpem6XBosCIRGwH4RFJS9Tc0hc9huKHQREPAwPoI2gTtWoYegyC8fApZqJQf2tny2G3LY0QhaRD4oWewFlO9VkRZlR8BSrYRmbwu9FwBAORjSQxcRWj4oMW2EQsFiLyDjEHzkkUc4UgwH0gUXXADvRMZcKclgb+KktXIPwsHI+++/H3Y1LnOdcMIJKbmyP+Ik9GGHHcZdUFQtgVmzZsH/yqV2Srn44ovPPffc7KIqpQQQDivijQC6vAEDBhxwwAEe5ev6c+WFo0zcm8d0DWhcf4FGa86cObBeVqpY9nhLtaIKCLcdEHovgPqXwFafQxOyjySLlAzxN954Y8qUKXyl7rzzTl5+CyHRLFGHHtyxQK3AaMv7ydX2tWvXcgQjmtg6rLls4YLjaivHoyGagN0ShyR9+/Z1JN+PO/RgL9+jfFqt668cekBRBDJPPfXUs88+e80110CyZ42MzigmWw2FBPJGAPJ6dXuLm5ZwZXNxwbEGUYce6CzcA3FBAaJZvsPeWSCUQw90FtSNFEFBHTt2RHk5NsFw6AGjrV/50eophx5Y6CDKIJ5/n3zyyWgC67CoFWvoJKMrAsy3X3nlFSi4UAGwNHzyySeOErmuef755zNlWLp0KRcpWUrz8Wfmi/sujywQiguWtQNXwHkVYZmmCAqCl9e9FMOhBwrXr3wDYRgCYTsELujKn3jiCe61GwnsfjotguyKjOfCYya34Di7yYBwd22H/OgCG4+Z8ADDLX722WdfeeWV8dJrjdGrU726xp0lc3i+V1AZ46GmVoGJ6Y0FNiPYYxG6CXqBzQIeG8rmzZuZMuCkAgd9ibXyG4lawR8ok3C8XsHszwVIF/mGQw/ayKqKDzLC+ebjPMhFeDSvXkTg0ANnpiy1gA4WHm6HupdiOPTAJO9XfrQhhOFpRf/iPId1ItfofRGJ11+tsKlE2zBKFchjph5YanXt110mnR1fYBfRY6YxghN/nvLZH2Ng8eLFvEKJaTJGGg49sBHwzuMSDF154YUXhnBIgkMP1m68kPzhCuOMM86AhDhjbSslMxx6LF++/MQTT/QoP1qucujBhAvlTvyyZct8XWqvv1rhOxzCYyafDgYWJijGk3JjxgLbF2qqbwx3mbTCi7tMhBsLbBx9K4+ZHovQw4vv+a233spkm8WIX4+ZuoiUAPZaYMQ2MWzYsJRkWR7FHXqwfOCLBekEro6ySMiYxnDoMX78+HXr1rGZxbyYDsoopFKyuEMP3naP8inXcOjBjJWvI1ZbduJ8AVV/tVJEj5mqYwK5y6TjjQU2MUX0mFnpzYnGe+SCqJdDD/Zooy1yD8cderjL1BLg34j7SPNlqdWlOE07tRSXAEYE5THz9ttvf/jhh/ngu0jTC2w+wlGPmdhuHnzwQSbbLsJ1XhZB9MT69evpJCwRyp0le6Vs/mO308msAyywo1XVHjM9FhGtG5907TGTvQwsU9GnEhYEakWg/molhMdMbNr84RxXe8zkWAGLIF++IDXKIdxlIpwFNjxA2htuPh4zWQdRtEePmRolCTQbAvVfBGEEKZzHTGN17dddJkMwvsAuosfMZnuXpL0agfqrFez/xfKYGV+dfuYt05s7S9U38QW2RwLdeBMo1LvHTD3IJNBsCNR/EdRsiEt7BYHSIyBqpfRdLA0UBPJGoP6LoLxbLOX5QCAoyYvikeF+trpL6aO+fyCjHLT4ObQCv+Z/AFzmH6JWMkMlCT9DgCsL+ZC8CPN+1RFHRwRFiQpwTM6CbUfUStW+kwR/gAAHSYV5/w8QSfqRAxVODkVYs+04qZVwM+HQ02BGQg5zyNBFhJYP/H+rsgAADQxJREFUSpWmweGodig0NNtODjw15SgiSWFmirNUKznMhHOY4JWgiByaYDcNzjT6JFFJEbBUK6FnwkI6mWW8NfI0OEv9JU1ZEbBUKwqOcDPh0NNg6l+CaWoOTSjruJd2BUVAzq0EhVeECwLNiIColWbs9Xq1GbIueFUWLlxIBbhiCi3+pEmTuA768ccf21WJy9aaThCupnbt2g0fPlyL4nI5T2G6gylOR9YUICO3SWFR6tGjh7piwoYuvCRQK2k5cAPCCkhBL7zwgo7MHuAGP3w6vXr1gksJ3inv8nUTunXrxhVW3BJw4ZbmcKf0oYceUvWEQQ2fAdSBfwlnr3yllA2hVvDqAO8GFIEbN26sVNGa4qOjDc4+OLuOPfbYFStW1CSkUmLdT3qo4dJBFeGFtVyVa4w2v0XoJuihxks+YsQIBhaMPhBKVGq7YzwuLyCOUULgrIcEA2I93km760iKZ5+L12q7CvJKuGx1DdlMhLwCzx6TJ0+GzUvH1xpQJBiw0kOyTZ1RLitXrtRC4C6B+mjVqlW8oiNHjtTxGQOKBhDGFojv2deDrMuvfFUN1QQoL+AY7NevH75HHnvssdGjR+tKohmh5qUO/EtYx1sH6q9WGOLKqwNX6ebOnWvdEp0xOtpwyodaYWxh3YTFCyIyncwlYAw1XDpADgh9wcyZMz/88EMXySpvfLR5L8IYamh25dUB5e7yEqa3vXXr1joB5NiQp/KTf5WRSD/KGIjy7JMFS180IzqlT58+xDCPQB1EH1mENRMgEyJ237QEHIbwxYJ1kNubzLlqPTkWpwH0K1/XUwUU1T7uQdq2bRt9BFZMZIiBTBrlEn1kF/5/gOzyu+cqrlcHNdS8u3QAUmO0FdSrQ/rY4CWEGJA0/Gu3CIry7MfLggRfu+xx+ZwoEgzFsx8nxI2W0qpVq1qZ9+M0gEZDHOUb0vgJ1b7aD4k+0qWAmBfy/fqrlSJ6dYgONe8uHehvY7QV1KtDdODGw1DVKw8ecKkq/RJPkxJj0ADSI0ZiOJL1zJGJmPE0+081rVNMgNg+jIzRUqgSP40E6T8NGsB4Ykf5cYEwARrTOtLoUiyaEC+CmIZQK8qrA+sUj14dFOkkKyzl1WHMmDEevToYQ025XMDc5cWlA71ijDZm3d6LiI4Ghpr26sBSzpdXh2gR8TC+wTidRDz/Eo4nSI9RPPuaBjBu1erdu/eSJUsQAkkY5DXp0rI8VTz7Rkpsaiyx8YICSSiKslaKbIMGkKW0X/mGNE21b8SDFW8fkfxL2Hhq8dPp3IpFeYlZiuvVIYRLByBitMGPC+kkqpCfBfXqEO/ru+66i88+LyHmT9wMM8X49re/DRmoBUNVnGefVxqS+rfffpttGmzALFuwqvDFwkKJI6p4ZTLGqJkpyyi49efPn4+3JhiXMQZRCroedYyRlVcRR1QzZszIKFMni9MAYmn2KF8VpJrArBAHifjMAig+uti28EmATqRThg4dyj4aRiKWSF7smw2hVgrn1cEYan5dOjAU4qOtiF4d9MujA+wE6TCB6GZwND5LOJFnH5ca0bxs1vIXjak1HKfRizMB8kLyV6tknb4qDaCj/HgTKBrvy7oCBNDs0U206CO7cEOolWJ5dYj3k3eXDvRlfLTZdXBirngTSMZ2QGJiiRQEakWg/raVWmss6QUBQaDBERC10uAdJNUTBIqHgKiV4vWZ1FgQaHAERK00eAdJ9QSB4iEgaqV4fSY1FgQaHAGnnSAhnUzv3dCkkKHl07pKpJPpDZenTY6ApVoR0smM4yY0KWRo+TQzkXQy3BeFEkMzGeegjstRhPVHpQU34jO+IdFkUEtwgP2KK66I3y+IJrMOM2oXLFjAZXPOSloLSc/IOWXOShW6iByawHHS8847j+N/6rYxkEIRwOlVyPfT4XV8iroMWkRo+TS/HEXwUVm9ejUcIDV1qOVsRZUhpJPpWIcmhQwtP7F1oWmMKTT0RyUHdVyOItRHpdaLTvSgk1pJHHYS2QwIhPuigF5oJuMc1HE5irAeybITZA2dZBQEBIFkBOqgVoTQNN4VBsUkRh+PhKlxiskc2EzjbZSY5kGgDmpFCE2N4RWnmPROaGpQTObAZmq0UX42FQJ1UCtCaGqMMINiEh72cISmubGZGm1UP6MTVYhRrr76ahiz1XZyYvqqkVEudAgEosz78RlZVWnxBHqip+nQ4xNJSMWh74PcI549S0zViaqjfN0ETYceRwamq86dO++6664QemWpc9U0dVAr0ToJoSloGBSTUXxUWFON8tOCMNUQmA+bqVGo+hmdqMKAxSvavXv3xJRZIqNc6KQ3mPfhEDH45bPIjKdRE71KzPukhyPqtttui2fMElN1ouooX9Wh6lwVPkAa6NIXRmPrrFaE0JT+MCgmjR7ip6YaJezONpoPm2m8FcREJ6psW9L7ickyRqYz70PmZvDLZxSbmKwS8z6JUdOJWbJEVp2oOso36lBprsq3yrEvjILqrFaE0JT+yJPQNDc2U2OchfiZzrzvq0TFBFiJed+xlKoTVUf58eyJc9V4MseYOpxbEUJTo8/iFJPeCU3zZzM12uj9p2beRzIvJw1kqu+9FAQiVjFXjxo1CuZ9HDZ5LIWJKrYVjwKrikqcq1bNVWuCOqgVITSNd1KcYtJgjXYhNE2kmAzNZhpvo98YxbyvHAniVBDG7EBqRVc7kXlfP7ULJHKh24nKkqvSXDVL3prS1EGt1FQ/SVwmBKITVfTm9OnT+Xjyd9hhhw0aNKimllZl3sf3kMEvX5N8nVhN9FKY93Eyy04Kl2/xFrh48WKdMUsgy0TVRb6qQ9W5Ku4QONOA78dzzjln8ODBl1xySZbKp6QRtZICjjzyjIAxUWUnyLqALMz7xozMoqz4RC/OvH/vvfdaSNZZqk5UHeXHm0DRBjIHHnhg3EWRrqFFoM4mW4saSxZBQBBocARErTR4B0n1BIHiISBqpXh9JjUWBBocASfbSjiKsND8YPRKCfi7cmiCNT9Yg497qV5QBCzVipBOZuyV0KSQoeXTzETSyYzNl2TNiYClWglNERaaH4zOLgF/Vw5NsOYHa87XSVqtELBUKypzOIqw0Pxg1L8E/F05NEHeE0HAAgEntWJRnmQpBwJK7wdqy7vvvotkpTRDFKEMRuHkU+dyFGENUR3UCqQbGzZs6NOnz4ABAyDduP322zdt2jRhwoROnTrZjSFIN1599dWnn36a7BxyX7JkSd++fefMmcNPqCWgLwGdO++8EwZ5O/kwVnAMlGNLWJQIzJo1i3NcDz74YMeOHfUhIkgxOMs4evToiRMnWpTCxZCxY8du376d05zAsnXrVo/ydf1//etf77PPPlOnTuUqigEL50Qvuuii119//Y033ki/kgu3CJwDd9xxh0Uzs2fBZmTdX1lKwWAUVD51KEcRLVu2pMezQBpNUwe1wlHLl19+ecuWLdRDkW7MmzcvWqeawop0gzeB70P79u0h3fjmN7+Jmw4lRJFucGa8JpnxxPq+GeqDM86cdL7gggtQZzolpBuoGM6h65jsAUW6wbnvrl27kmvZsmVw6niUj0xdf45X9uvXD/zhIonCohg3uKJStdpf/vKX2ad7//33q6Z0SYAGtyB8z15iaPnUpBxFoFPo8ezAqpR1UCsG6Ybj6FGkG126dOGSCDMFzD18cjUK4Ug3mALoUgikf+GjKePhOOkGaTzKj5bINZlbb72V2yvHHHNMNB7GjejP9DDjzGKopcuUp2VCoPDH4YR0o9bhiAYMahmptT6SvnwIFFutaNINPsKKdCNQD7GIePLJJ7noycUtSDf8llKVHc5vcazUmNP5lSnSBIEoAsVWK4p044nP/jDQsA6Kti1EOBDpBudlX3zxRVVhbQYOUf/cGDdCVF5kFgWBOthWhHTDGBw5kG7kz7hhtFF+NhUCdVArQroRH2FBSTfqwrgRb6PENA8CxV4ENU8/SUsFgQIhIGqlQJ0lVRUEioGAqJVi9JPUUhAoEAKiVgrUWVJVQaAYCIhaKUY/SS0FgQIh4LQTFO6wZug7rPRQCe6Y5tAE6zusBXoHpKreEWixY8cOC6FvvfUWF463bdtmkTdjFu6w/v73v8+Y2C4Zd0y5MWyXN2Ou0EWElk8zucOKcpFLQBl7XJKBgKVaISeaJeg11nJcAA3ditDy6Wi7O6zydjUzAvZqpZlRk7YLAoJACgJisk0BRx4JAoKADQKiVmxQkzyCgCCQgoColRRw5JEgIAjYICBqxQY1ySMICAIpCIhaSQFHHgkCgoANAqJWbFCTPIKAIJCCgKiVFHDkkSAgCNggIGrFBjXJIwgIAikIiFpJAUceCQKCgA0ColZsUJM8goAgkIKAqJUUcOSRICAI2CAgasUGNckjCAgCKQiIWkkBRx4JAoKADQKiVmxQkzyCgCCQgoColRRw5JEgIAjYICBqxQY1ySMICAIpCPwv7LQhGHi4j6gAAAAASUVORK5CYII=)"
      ],
      "metadata": {
        "id": "bO_nkqIdtFfS"
      }
    },
    {
      "cell_type": "code",
      "source": [
        "left = pd.DataFrame(\n",
        "    {\n",
        "        \"key1\": [\"K0\", \"K0\", \"K1\", \"K2\"],\n",
        "        \"key2\": [\"K0\", \"K1\", \"K0\", \"K1\"],\n",
        "        \"A\": [\"A0\", \"A1\", \"A2\", \"A3\"],\n",
        "        \"B\": [\"B0\", \"B1\", \"B2\", \"B3\"],\n",
        "    }\n",
        ")\n",
        "\n",
        "\n",
        "right = pd.DataFrame(\n",
        "    {\n",
        "        \"key1\": [\"K0\", \"K1\", \"K1\", \"K2\"],\n",
        "        \"key2\": [\"K0\", \"K0\", \"K0\", \"K0\"],\n",
        "        \"C\": [\"C0\", \"C1\", \"C2\", \"C3\"],\n",
        "        \"D\": [\"D0\", \"D1\", \"D2\", \"D3\"],\n",
        "    }\n",
        ")\n",
        "\n",
        "\n",
        "result = pd.merge(left, right, on=[\"key1\", \"key2\"])\n",
        "result"
      ],
      "metadata": {
        "id": "uvhpO3KSoXRg"
      },
      "execution_count": null,
      "outputs": []
    },
    {
      "cell_type": "markdown",
      "source": [
        "![image.png](data:image/png;base64,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)"
      ],
      "metadata": {
        "id": "zIlmx64hqNJ-"
      }
    },
    {
      "cell_type": "code",
      "source": [
        "result = pd.merge(left, right, how=\"left\", on=[\"key1\", \"key2\"])\n",
        "result"
      ],
      "metadata": {
        "id": "jVSOq77Voq6L"
      },
      "execution_count": null,
      "outputs": []
    },
    {
      "cell_type": "markdown",
      "source": [
        "![image.png](data:image/png;base64,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)"
      ],
      "metadata": {
        "id": "4s9YDyNlozC7"
      }
    },
    {
      "cell_type": "code",
      "source": [
        "result = pd.merge(left, right, how=\"right\", on=[\"key1\", \"key2\"])\n",
        "result"
      ],
      "metadata": {
        "id": "5j9SbB_1o0j7"
      },
      "execution_count": null,
      "outputs": []
    },
    {
      "cell_type": "markdown",
      "source": [
        "![image.png](data:image/png;base64,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)"
      ],
      "metadata": {
        "id": "998gX-2Gpu1d"
      }
    },
    {
      "cell_type": "code",
      "source": [
        "result = pd.merge(left, right, how=\"outer\", on=[\"key1\", \"key2\"])\n",
        "result"
      ],
      "metadata": {
        "id": "73ktpJe8pyKz"
      },
      "execution_count": null,
      "outputs": []
    },
    {
      "cell_type": "markdown",
      "source": [
        "![image.png](data:image/png;base64,iVBORw0KGgoAAAANSUhEUgAAAnUAAACvCAIAAAAUr79jAAAK22lDQ1BJQ0MgUHJvZmlsZQAASImVlwdUU9kWhs+96SGhBSKd0DvSCSAl9FAE6SAqIQkklBgSAorYEHEEx4KICJYRHRVRcHQExIZYsA0K9jpBBgFlHCzYUDM38Agz89Z7b7291sn51s4+++x97j1r/RcAcihLKMyBVQHIFeSLYkL8aUnJKTTccwABNCAAa0BnscVCRnR0BEBsav67vb+LRCN2y06e69///6+mzuGK2QBAqQinc8TsXIQ7kPGCLRTlA4A6hPhNCvOFcr6JsIYIKRDh3+ScOckf5Zw+wWjSRExcTADCNADwJBZLlAkAyRbx0wrYmUgekrwHBwGHL0C4GGEfNo/FQfgUwra5uQvlPISwJRIvBICMnA6gp/8lZ+bf8qcr8rNYmQqe7GvC8IF8sTCHtfj/PJr/bbk5kqk9zJFB4olCY+T7Ied3P3thuIIF6bOjppjPmaxJzjxJaPwUs8UBKVPMYQWGK9bmzI6Y4gx+MFORJ58ZN8VccVDsFIsWxij2yhAFMKaYJZrYl4iwVJIdr/DzuExF/iJeXOIUF/ATZk+xODs2fDomQOEXSWIU9XMFIf7T+wYres8V/6VfPlOxNp8XF6ronTVdP1fAmM4pTlLUxuEGBk3HxCvihfn+ir2EOdGKeG5OiMIvLohVrM1HXs7ptdGKM8xihUVPMeCDSMACbJrKFAGQz12UL28kYKFwsYifycunMZDbxqUxBWx7W5qTg5MTAPK7O/k6vKVO3EmIenXat2YZAL6rZTLZiWlf8DgAzVXIY2mb9lkid1F1EIDLJ9kSUcGkDy3/wSBPTwVoAG1gAEyAJbADTsANeAE/EATCQBSIA8lgPlIrD+QCESgExWAlKAMVYCPYAmrBLrAHHACHwVHQCk6Bc+ASuAZugjvgEZCCAfASjIL3YByCIBxEhiiQNmQImUE2kBNEh3ygICgCioGSoTQoExJAEqgYWgVVQJVQLbQbaoB+gk5A56ArUA/0AOqDhqE30GcYBZNgDVgfNodnwnSYAYfDcfA8OBPOg4vgUng9XAPXw4fgFvgcfA2+A0vhl/AYCqCUUFSUEcoORUcFoKJQKagMlAi1DFWOqkbVo5pQ7agu1C2UFDWC+oTGoiloGtoO7YUORcej2eg89DL0OnQt+gC6BX0BfQvdhx5Ff8OQMXoYG4wnholJwmRiCjFlmGrMPsxxzEXMHcwA5j0Wi6ViLbDu2FBsMjYLuwS7DrsD24ztwPZg+7FjOBxOG2eD88ZF4Vi4fFwZbhvuEO4srhc3gPuIV8Ib4p3wwfgUvABfgq/GH8SfwffiB/HjBFWCGcGTEEXgEBYTNhD2EtoJNwgDhHGiGtGC6E2MI2YRVxJriE3Ei8THxLdKSkrGSh5Kc5T4SiuUapSOKF1W6lP6RFInWZMCSKkkCWk9aT+pg/SA9JZMJpuT/cgp5HzyenID+Tz5KfmjMkXZXpmpzFFerlyn3KLcq/xKhaBipsJQma9SpFKtckzlhsqIKkHVXDVAlaW6TLVO9YTqPdUxNYqao1qUWq7aOrWDalfUhtRx6ubqQeoc9VL1Pern1fspKIoJJYDCpqyi7KVcpAxoYDUsNJgaWRoVGoc1ujVGNdU1XTQTNBdp1mme1pRSUVRzKpOaQ91APUq9S/08Q38GYwZ3xtoZTTN6Z3zQ0tXy0+JqlWs1a93R+qxN0w7SztbepN2q/UQHrWOtM0enUGenzkWdEV0NXS9dtm657lHdh3qwnrVejN4SvT161/XG9A30Q/SF+tv0z+uPGFAN/AyyDKoMzhgMG1IMfQz5hlWGZw1f0DRpDFoOrYZ2gTZqpGcUaiQx2m3UbTRubGEcb1xi3Gz8xIRoQjfJMKky6TQZNTU0jTQtNm00fWhGMKOb8cy2mnWZfTC3ME80X2Peaj5koWXBtCiyaLR4bEm29LXMs6y3vG2FtaJbZVvtsLppDVu7WvOs66xv2MA2bjZ8mx02PbYYWw9bgW297T07kh3DrsCu0a7PnmofYV9i32r/aqbpzJSZm2Z2zfzm4OqQ47DX4ZGjumOYY4lju+MbJ2sntlOd021nsnOw83LnNufXLjYuXJedLvddKa6RrmtcO12/urm7idya3IbdTd3T3Le736Nr0KPp6+iXPTAe/h7LPU55fPJ088z3POr5h5edV7bXQa+hWRazuLP2zur3NvZmee/2lvrQfNJ8fvCR+hr5snzrfZ/5mfhx/Pb5DTKsGFmMQ4xX/g7+Iv/j/h8CPAOWBnQEogJDAssDu4PUg+KDaoOeBhsHZwY3Bo+GuIYsCekIxYSGh24KvcfUZ7KZDczRMPewpWEXwknhseG14c8irCNEEe2RcGRY5ObIx7PNZgtmt0aBKGbU5qgn0RbRedEn52DnRM+pm/M8xjGmOKYrlhK7IPZg7Ps4/7gNcY/iLeMl8Z0JKgmpCQ0JHxIDEysTpUkzk5YmXUvWSeYnt6XgUhJS9qWMzQ2au2XuQKpralnq3XkW8xbNuzJfZ37O/NMLVBawFhxLw6Qlph1M+8KKYtWzxtKZ6dvTR9kB7K3slxw/ThVnmOvNreQOZnhnVGYMZXpnbs4c5vnyqnkj/AB+Lf91VmjWrqwP2VHZ+7NlOYk5zbn43LTcEwJ1QbbgwkKDhYsW9ghthGVCaZ5n3pa8UVG4aJ8YEs8Tt+VrICLpusRSslrSV+BTUFfwsTCh8NgitUWCRdcXWy9eu3iwKLjoxyXoJewlncVGxSuL+5Yylu5eBi1LX9a53GR56fKBFSErDqwkrsxe+UuJQ0llybtViavaS/VLV5T2rw5Z3VimXCYqu7fGa82u79Df8b/rXuu8dtvab+Wc8qsVDhXVFV/Wsddd/d7x+5rvZesz1ndvcNuwcyN2o2Dj3U2+mw5UqlUWVfZvjtzcUkWrKq96t2XBlivVLtW7thK3SrZKayJq2raZbtu47Ustr/ZOnX9d83a97Wu3f9jB2dG7029n0y79XRW7Pv/A/+H+7pDdLfXm9dV7sHsK9jzfm7C360f6jw37dPZV7Pu6X7BfeiDmwIUG94aGg3oHNzTCjZLG4UOph24eDjzc1mTXtLuZ2lxxBByRHHnxU9pPd4+GH+08Rj/W9LPZz9uPU46Xt0Ati1tGW3mt0rbktp4TYSc6273aj5+0P7n/lNGputOapzecIZ4pPSM7W3R2rEPYMXIu81x/54LOR+eTzt++MOdC98Xwi5cvBV8638XoOnvZ+/KpK55XTlylX2295nat5brr9eO/uP5yvNutu+WG+422mx4323tm9Zzp9e09dyvw1qXbzNvX7sy+03M3/u79e6n3pPc594ce5Dx4/bDg4fijFY8xj8ufqD6pfqr3tP5Xq1+bpW7S032BfdefxT571M/uf/mb+LcvA6XPyc+rBw0HG4achk4NBw/ffDH3xcBL4cvxkbLf1X7f/sry1c9/+P1xfTRpdOC16LXszbq32m/3v3N51zkWPfb0fe778Q/lH7U/HvhE/9T1OfHz4HjhF9yXmq9WX9u/hX97LMuVyYQsEWtCCqCQAWdkAPBmP6KNkwGgILqcOHdSW08YNPk9MEHgP/Gk/p4wNwCakEkuixgrADjagchZZFbxA0AuieL8AOzsrBj/MnGGs9NkLhKiLDEfZbK3+gDg2gH4KpLJxnfIZF/3IsU+AKAjb1LTyw2LaPkm3epX6ym3ejvBP21S7/+lx3/OQF6BC/jn/CeUVhyzNWNy0AAAADhlWElmTU0AKgAAAAgAAYdpAAQAAAABAAAAGgAAAAAAAqACAAQAAAABAAACdaADAAQAAAABAAAArwAAAAAHlRwMAAA7E0lEQVR4Ae2de9hOVRr/fypR6OA0yGHQFXMxaiqhKUqMSjmLLuOSU7liZpIzTSKn6CAppNSMGnI2yalCTDFSTkM5TEQThdcrjByafp+fdf32tT2H/e5n73Xv932e995/vO9+9l7rvtf6ftda9zrtdRf4+eef/49eioAioAgoAoqAImAVgYusSlNhioAioAgoAoqAIvD/EFD7quVAEVAEFAFFQBGwj4DaV/uYqkRFQBFQBBQBRUDtq5YBRUARUAQUAUXAPgJqX+1jqhIVAUVAEVAEFAG1r1oGFAFFQBFQBBQB+wiofbWPqUpUBBQBRUARUATUvmoZUAQUAUVAEVAE7COg9tU+pipREVAEFAFFQBFQ+xq8DFxyySXJIu/cufOGG274zW9+88knnwwfPjxZMH2ejgg8+eSTixcvTpby+FKxadOmv//978nC6/N8i0CBAgVoJX7961/Xq1fvX//6VxgcfvnLX37zzTdIGD9+/A8//BBGlMa1iEABPR8xMJq0pOfOnUsY/ZlnnsnKyuIvbz2CJYyrD/MyAj/99NPFF1/skcJ4ut98881//OMfr732mkcsfZUPEXCKyhNPPPHpp58uW7YsMAjYV8pY+fLlnZvAojSiRQR0/GoBzFWrVt1222033XRT48aN9+/fP3/+/BdeeOGvf/0rndPevXvTInPTqFEjC5pURC4hQFM4evTo3/72t++8885DDz301ltvkZA9e/bwpGbNmj169KhUqZIZQPB8xIgRTF3UqlWLaYzjx48z3qVIUAYmTJiQS8lXtXkaAVoP2g2S+L///W/IkCG33HILg9rBgwfz5L///W/Lli0pSxQzXvHEKX7cX3vttXv37uXGXOPGjfv222+bNGlCYTtz5sz/f6z/cw2BpDOcuZaidFPMOHXQoEFLly698soraXz79u3L382bN9Mi0y0lNy+99BIzhOmWLU3vBQjQSSpduvTHH3/M0+XLl5t3f/rTn2jsunfvvmjRoilTppiHhKTV27hxI40d19SpU1kg0PHrBWjqjwsRYLmhTZs2PGOqgwnF9evXU4qaN2++ZMmSH3/8sXjx4vTPeHv06NEL48X+6tev38svv8w4mIFs7Dv9nRsIqH0NizorrAxTGjRogCC6n8WKFQsrUePnSQQ6dOgQk641a9bMnDmTh/fdd9/VV19t3rKo1rp1a+4ZhYSZ8YvRpT8zDwEzs/Wf//yHvvhnn31GBjG0dM3N6v7Jkyd37drVtGlTuuwYTibAdA4s7cqA2tewlNHfvP322xcsWBBWkMbPwwiw5lq4cGGPBDr7GC666KKCBQsSkijJluc95Oir/IMAJYSZrVOnTj366KN/+MMf5s6dSylizqNFixZuED7//HOmTFi/Z33hvffewxjTjzcBTp8+7Q6p93kNAV1/DcsIe/+YzzHb/2hPt27dGiPx8ssvZxEl5qH+zAAEWDZ7++23yQjzw9nZ2clydMUVV7AKm+ytPs/nCFx22WVs+mUPB03HPffcM2nSJOaEweTAgQMHDx5kUZ/uWtu2bV988UXaGZ5XrlzZDHb/+c9/MvaNQU8LWwwguftT7WtY/EuWLDljxoxu3bpdf/5avXp1jERW6ZgqvPvuu2Oe6890R4Bmcdq0aexrW7FixS9+8QuatoQ5atiw4ddff33zzTdPnDgxYQB9mM8RYOtGnz592EDXtWtX+usUFfY3sa2JThtGlyfsV8L0spMDoFjvZ7MxYejbsVs4BjqGwq1ateKt7m+KQSZXfur3ObkCuyrNBASYlmDSmAlhti/R6n3xxReZkCvNgyKgCFhCQNdfLQGpYvIfAowtmLdgQ9Oll17Kzs/8B4DmWBFQBLwQ0PGrFzr6ThFQBBQBRUARCIaArr8Gw01jKQKKgCKgCCgCXgioffVCR98pAoqAIqAIKALBEFD7Ggw3jaUIKAKKgCKgCHghoPbVCx19pwgoAoqAIqAIBENA9w8Hw01jKQKKQO4gsG/fvsOHD8vp5lCkQoUKyclHsqrwCW8EQHGAQcWKFX2mJ9Vgal9TRUzDKwKKQK4hgHGtXr06ZwrKpYAPmp0DCIW0qAqfwEYAFOdnffnll0ImVu2rT6I1mCKgCOQ+AoxcMa6c1nvNNddIpAbHR/i/kpNPmlWFT+IiAIoDJjkVi0Kl9tUnKRpMEVAEMhwBjGuVKlUkMmlO9JWTT5pVhU/iIgDKZ0oCB9P9TYGh04iKgCKgCCgCikBSBNS+JoVGXygCioAioAgoAoERUPsaGDqNqAgoAoqAIqAIJEVA9zclhUZfKAKKQFog8P3330+ZMuXPf/6zz9SOHDnyq6++uvfee1u3bu0zSkoqEP7GG2+w95WrR48e+C70qSVZMHKHI9inn346WYAwz8nagAEDKlWqdPbsWZzL4rIijLRkcXHROH36dFSwN7tOnTr33XdfspDBnju54JMe/P39/ve/L1++fDBRFmOpfbUIpopSBBSBNEAAm4fvoyNHjgil9eqrrx48eDAffnz++eezZs1iN3IYRefOnduzZ0/x4sUxIaVLlw4jKllcNouZ3gk9j71798a7lU0W0edzPDmOHTu2X79+RvLmzZt9RkwpmJOLDRs2jBs37tlnn8U1fUoSrAdW+2odUhWoCCgCuYPAsmXLGCcVLVp0x44dmCU8jeOZfODAgbguv+SSS3DT++233z7wwAMlSpQInD6fKox8lDKEDazLRMRI4y+dD0jWrFnjf8AdQCkjSwZ/l19+eYC43lHIQrVq1Ryzff3113uHD/kWuBYuXPjvf/+bT6VDigoZPSz3IdVrdEVAEVAErCAwY8aM7OzsW2655cSJE8OGDXvyySdnzpyJebvpppsY0KBi5cqVd955ZxhdKan48ccfCd+0adMwGolLt6BBgwY33nij0LAPFUxoP/XUU71796ZrwnlGIRMcH50PTCXExityntCFysrKcn7m1o2OX3MLedWrCCgC1hDYv38/ZpXpzcWLF3/xxRdYC0Sz2nf8+PG77rrrtddeY2WR0WSpUqUCq0xJBaPn8ePHt2zZ0hm0BdPLzCpj8VdffZXoTGhjCCU+/HVmVlk2XrRoUbNmzYKlNlksjCtD2GRvJZ6DFTPqEpJTkqn2NSW4NLAioAjkRQQqVKjQuHHj559/vlGjRrVq1ercuTOpxMhhU7kpUKDA7NmzQw5e/atgopVTgWrXrs1gOiRY69ata968OVuxkLN9+3amiCXsq5PIIkWKMAfg/LR1w+CbobyzsrtlyxY4siU8Xg62/IcffqhatWr8q4ifqH2NGHBVpwgoAiII1K1bF2vK+igbRxm/YlMZwZi9RQ0bNpw6dSrbmoziyZMn79y5k9EtS3T9+/f3nxqfKtauXUsTf+zYMcwh66ZdunTxryImJBK6d+9uHl533XVsJO7YsWP4Nd0YLWZ+mG7BxRdf3KtXr5i34X+ypsvmprfeesvZPyxhX00uWEK+4oor+vbtm+ubm8BN7Wv4wqMSFAFFIDcRYFet2f7Kxhau+KRgkFjCNGNZ3jqGNj5ksicpqfjt+SuZqJSeDx061AlP+l988UXnp60bssa0sC1pyeQwT/7EE08kexv+eTS5SDWdur8pVcQ0vCKgCKQTAiwozps3L/w+I488R6DCQ7u+yrMI6Pg1z1KjCVMEFAELCHCUgfXTDGKSFYGKGI36My0Q0PFrWtCkiVQEFAFFQBFIMwTUvqYZYZpcRUARUAQUgbRAQO1rWtCkiVQEFAFFQBFIMwTSfv113759HA4ihzq7vQsVKiQnH8nSKqTlkwW+H+c7BFGUYoRL854ZvEhTH8+7NC+cHQE1GzduNM63Y0pF+J9ffvmlqHyEqwqfNEUAFEc6+0xMwGA/p/PFWaMcoh0w5/6iWf/ULF6ttApp+eQIFuAisqIUAe9kSho3afkRZCGGd+UlvnYnfJIB1EdQuiJT8cknnwi1Xek9fmXkeurUKT4hv+aaaxKW45AP6Sa/8847cvJJnrQKaflkgZEEp9XARWRDWGneM4MXaerjeY+MF04q+NWvfhWydieMzvGKfEorJx+lqiIh8vEPIwCK6RA82cnNUKa3fTWUYFyFzgwzc1By8km/tApp+fG1IrInyos31LlFfQS8YFw5cs87+8HemvlnOfmkSlX4pCYCoHymJHAw3d8UGDqNqAgoAoqAIqAIJEVA7WtSaPSFIqAIKAKKgCIQGAG1r4Gh04iKgCKgCCgCikBSBDLQvrLl+umnn06a47gX+Izs2rXr3Llz494kfZCSCrw6sGOCc7rx+fzdd98lFervBQ40zFHm/oKnFop84dgL3yNDhgzBZWZqkXM7dEqkkNj04p2tuSNGjKAUwT6n3doF2+F90KBBY8aM+eabb+zKDyZt1apVnAhPfqlBwSS4Y+EcDdd1PMFNLI7q2Lc4atSo2267Ddc6vHKHDHwfgQrS9vDDD5Nsk8ilS5fWO3/hNShwst0RycLVV199xx13IPXRRx/lFY6AUHfrrbe++eab7pBh7vFP97vf/a5+/fr4QcCloHUVTi7wD8jRlfj1I7XW6faDQCbsb/KTT48wONPYunUr/ng9woR5RXkdPHgwXzJQjGbNmmUcZgUTiD/LPXv24HWLBhF/EcGEeMdyPC1jfiimIb1De+vK3bdpxDtOtseOHYuHL0PH5s2brUPn8L5hw4Zx48Y9++yzueveCyu4ZMkSCmFWVha701PqMXuAg9j7778f6q+//vrXX3/9H+evgQMHzpw50yNWSq9EVZw5c4ZmBAd8tANs1x8wYMDq1atJHraK3gPe5VJKasLAN9100wcffMCrJk2aUNL++Mc/vv322+XKlcM3H55oac0SxvL/EM+s+G9fsGDBDTfcQKzly5dbV4FYJxfvvvtuixYt8P5Ld02Cbu+MZ+D41ckwfbpXX331b3/7G71+BmSfffbZTz/9RCOFlSIMWGPtuClRooQTJdUbPyookeYjXdxLhfzujaqF+y16l3iFTDWpKYXHEyRHE+C1MaVYeSSwH1JIanrxXq1aNaevg22Qg5oChvtMHKPKqfAjeffu3WzipcrQj/zxxx/xG+onlncYx/K1a9eO1tY4LWdwZrG/Iq3ivffewzg99NBD2Lxdu3ZVrlz5yvMXZcMuZTSV9OoKFy5MjipVqkRnC6A+/fRTb4T9vGX2BVHGuBIev4HWVbiTQXeKIoRSCbrdihLeZ6x9nTFjRnZ2NvMDkMfE7JNPPkkXFfNGv4YeOlisXLmSaaKEoPh8mJIK2gjCh3SSRZ+A4siXCRZbhJjMGh/FvXv3Llq0KKfzxLzN+z9TIiVYdlJSYYV3viuNkgt6Howag4FjKxbV1uneccPP8JI5D4g2gUEYosjgVVddZWRiS8ILNxKkVVD2OnXqRDNCJ9KdBfJiawaOcQg9eDo3zJPRCDgo2VKxf//+ChUqOICTbOsqHOHmhuE+FDtaLNIdoyj+Z2baVyjctGlT69atOa2Nj6hYUBw9ejRd4OPHj991111YVtZB6RqXKlUqHhGfT1JSwYh5/PjxLVu2dIYgPrW4g9Gd3LFjByPyZ555hkJpZVHKLd/cM08IXLhxBhzr63zx6uw+SYmUYKpTUmGFd9KJccXEBktwgFiULtrWABEtRqFlp8AbgdzwM7xwhuYcJtC2bVt4IYPYWiPTyrSqESWq4tixYx9//PEjjzzCmIxyyJFDThZ4ZYsyRiAM7nfu3EljNW3aNCSbrNlSgXGlWXbYJNnWVTjCzQ37CaDYwcoi3TGK4n9m5vorFDZu3JiVc9YkatWqxZ4dck6lwqZyU6BAAabjQw5e/atgrpUFpNq1azOYjifA/5N169bR9TazHKzYM0UsdKqGSVKRIkWcEuk/kbkb0j8pgdPpX4Ut3kkqMxYMXJzlcLaHUKoDZ8E7ImsQrJBVrVrVO5j022uvvZYJJ+oshZBZSluLwX369EEgQ0C2RDz++OOPPfYYZ+PZnW+XUzFnzhwWXFmtBPyPPvqIn6zCQhY/uQExu6SwsIXlY/IAc1i2bFkmz1hoC6+CDUeAz/jHTBEj1roKdyKZUT906BBK+/fvL0G3W1f8fWbaV/LJajzWlFkUJgcYkGFT6SiZvUXsGJw6dSp7HAwckydPprPG6JYFDDiIxyjZE58q1q5dS5tFScUisiWhS5cuyQR6Pyd69+7dTZjrrruOjcQdO3YMuaAbr9HMD2Mb6OX16tUrPkAef+KTFHKRLryTVBog9g1waB+lFGrq1Klj3b4a3ll0Z/G1b9++tuxZ4NLCgJUtpqbmstwYWE58RLZK0Q5MnDiRVUD2r1566aVsdIoPFuaJkArWXCdNmmQSxoZeNhIzhGAXEk+Yn7M1LDPzw0yi0n5Onz69ffv2Dz74IGNlthOH39xEUilgCxcupDyzdEJhbtWqFbNldlWgxeSCmQ/m4ebNm1ejRg05ug0jCf9moH1lNdt8wcJcDVd8trFJrGKasSxvHUMbHzLZk5RUUIe5kony/9zdeSTxFEr/cX2GJF9vvPGGz8B5LVhKpJD4dOHd4MxkHR+rCGGeN3mnH8xlK8sAaLbFIpD5JCPW7qdu0ipWrFjhoEEHiNUifobc0uEINDdk4ejRo+6HjE+YlHY/CX/PhAHbht1y7KqIzwW64Nou3e70J7u/KNmLTH3OmiLdGbuFMgarCFTEaNSfOSIQASkRqMgxmxpAEVAE8g4CGTh+9QaXiXgu7zAh30agImQK82H0CEiJQEU+JE6zrAikLwL5bvyavlRpyhUBRUARUATSCAG1r2lEliZVEVAEFAFFIG0QUPuaNlRpQhUBRUARUATSCAHZ9Vc+nBL9Lt444N24caNxJW0dd05jQaacfIRLq5CWTxY4DDkeeVHqpXnPDF6kqU/IO9BFUF8WL15sykB8wQv5xGxklZNP8lSFT44iAIrvhn0mJmAwPmwSuvD4Yc7dDZgyf9GsfwAao1ZaPuqkVUjLN1ngO32nIEVAfTSZiikMdn9mRhbcvHOfGZmyS3S8tAxAiUxlRi74bthdhp1GzMqN4PiVkeupU6f4lPuaa66JL2FWntBTxs8U391zWqYVgTFC6MbyyZScfNRJq5CWTxYYSXDsXKFChRz0pKmX5j0zeJGmPp53ygAnBmiVdypCwhtpXiIovRmjIr4MJ6Qs8ENB+2rShHGVO8bPTAtjXDlALjAEHhHNHJScfFRLq5CW74GeHPXSvGcGL7lFvRzv8CJNfQSgqQqPRsP9KgKg3Ook7nV/kwSqKlMRUAQUAUUgvyOg9jW/lwDNvyKgCCgCioAEAmpfJVBVmYqAIqAIKAL5HYF0sq94JeSIczYchXd9iqsvXNdBPn6bcVTHJqlRo0bhYIHzxHllpVBEoAIHGqTZpHbp0qX1zl+4DLKSfoSQBTxm4GwZwXjP4AmOgNCI744333zTlpYc5VjkHV3SvEjLJwv4p8O3TP369fEbgQcVu6Q4pONOkRMf8YSIRuu1I0fSCTBy5MiuXbvOnTvXT+Acw0TAS4yKv/zlL1Qc3HqzQTLH5PkP4K71OOPCc1y3bt38R/cO6bDvVHna20qVKpnW0jtu/Fuk4bgMbznmVUIPepzF37t3bxOApgZfrfFyPJ5EoMJDe46v0sa+YgiXLFmCvyp2J9ry8YJMPBXjRwV/DjTieCIcPnz4wIEDc0TNfwA5FWfOnKFhxfM2n3DhTArHkJhYLlzs8dN/Cr1DGmfLuNjDed/mzZvxPYmTLHxP4oEkxs+Gt5zAbyV4JzFyvJicysnH32ezZs3Gjh27evVqPhCsWbOmdVIM6evXr8eVd4sWLeBdqHZ4lwoqJh4YvcOk+laOFycljooOHTrMnz8fn6POq/A37lqPNBzh4Rg4vFi3hJgqT8d65cqV7gAp3VevXh3feXzrkiwWrsBoeA8cOJAsQI7PI1CRYxqSBUgb+7p792728UIGvrRwHIgjzGRZ8vncqQbt2rWj+TB+yxmc0Zr4lJBjMFEV+A2mncU1JgZv165dlStXvvL8RX8QW5hj2lIKgMHGkyJurskRnVl8YwHUp59+mpKQYIGt804yRHmRlo+XHsA3vqnRhadFOVLofVLd0ChRO3IsDyVKlMgxTEoBpHknMW4VNFZlypRJKYU5BnbXegLLffpoqjy+Whkfh/nOlRTycYczhMVUU2Jvv/325s2b04yb/OIL9plnnskx78kCRKAimeocn6eNfaXg4mXa5IcbfuaYN+8AnG6TnZ0NzQTLyspiGseEtzj4E1VBv7VTp0442mNC2J1+MnLkyBHvvPt/a9wU07PBOz0urx2U7GrxSI913tElyou0/P3791eoUMFBDK5FScH9JzXCUWGxdjhZiOxGmvcY6iXy5a71EvKR6a7yFStWDK9l8ODBY8aMMUNYFh2Y/VqzZg2DzlmzZhnhbdu2ZSYmzBA2AhXBcEgb+0rjzhDKZJIbfgbLsBML1+ucigC1586dw3hga80rjvNwwoS8kVNx7NgxSiTTd4wwaHApu076eUV2QqbciW4mi3bu3MmweNq0aQg3r+xqcdTF31jnHRVyvJj0i8rHuHL2pAMUXIuSwnoYNcIpXRZrh5OFyG5EeYmn3nq+INpd6zGE1lUg0F3lWd0Pr4IuGjIXLFiAqG3btjVp0oQhLCNaGi4jnDVaVrWwwYF1RaAiWNrSxr6yNk73E1vI2UBMVDJFGSzD7lh9+vRhno1RIPMVLO7yioOyWIt1hwl5L6Rizpw5zoIr2yj4ySosK3Nc3CTcRxAyI2x0onozc0DjzuQ8SyZ0RUPK9BNdgnf0CvHi5EhOPnuOaGQ3bdpkdEGEHCnMRh46dAiNQrXDgSuyGzlenCw4KjjKynlo5Sam1rMwZEVsMiFU+e+++y7Z25SeDxo0yMwAs2eNPS4MYVnbci/KtmnThk0eBw8eTEmsO3AEKtzqfN5f4jNcrgdjHMOeSfY30dlh0dFWetggwIapiRMnsqbFbsxLL7309ddftyXcyJFQQdWaNGmSkc9uXrYU0tOkY8gTdhNYHGSYySJmBVlMmj59evv27R988EEqBrseqH52gUooTYh3dEnw4s6CkHyWxOj7s2TF8hUteKtWrV588UW7pBjSmSUqVarUvHnzatSoIVc73IjF3E+ePJmJEzpz7CdgfBPzNvBPIV7c6TEqevbsyeifERsdILpBZMcdJsB9fK3nQMrly5djltjfS6koUqRIALExUWKqPG3jzJkzOUoJFVOmTKlatWpMeD8/GV8yecDuSxqQzp07V6tWjb0ilGQnrhnCMpvoPEn1JgIVqSaJ8GljX0krH89wBchkfBRmOz/44APznK2w5oad6PEhAz8RVbFixQonYQzld+zYwU/WYp2HVm7IQswmYQoxgycrwv0Lscg7SkV5iUA+KphioVV1A2iRlHjSUUTVsFs73IlPds/+4WSvAjyX5p0kJVQRIKnJoiSs9fSnk4UP8Dye/V7nrwCiiOIGBDtthNAXdEtjA6P5yRDWPaJ1h/G4j0CFh/YcX6XN/HCOOdEAioAioAgoAopA3kFA7Wve4UJToggoAoqAIpA5CKh9zRwuNSeKgCKgCCgCeQcBta95hwtNiSKgCCgCikDmIKD2NXO41JwoAoqAIqAI5B0ExPcPb9y40bhElsgzX8QidvHixcYTr3UVZlumnHwSLK1CWj5Z4IvbhMjLUS/Ne2bwIk199LzDizT10qBFULRUBQj4vJKVYZ/Rcw7Glmihi7MawhxcmXPSz4eQViEtn0xIq5CWTxb44ha6nYIUAfURZEpahbT8CIpW9LxHkKkM4CUClDJGRUwZdhoxKzeC41e+feb7d05vkDuEmhESruVw/8QBufBt/WLkymd/cvJJsLQKaflkgckDTpqEbgd/aeqlec8MXqSpj553eJGmXhq0CIqWqgABn1d8GfYZ0WcwQftqUoBxrVKlis/UpBrMzDxjXHHRkGpcP+HNtLOcfNIgrUJavgeMctRL854ZvOQW9XK8w4s09RGApio8Gg33qwiAcquTuNf9TRKoqkxFQBFQBBSB/I6A2tf8XgI0/4qAIqAIKAISCKh9lUBVZSoCioAioAjkdwTSxr7i2Khr165z5861wtjevXtxB4Eo3HffeeedbJIaNWoUTkI4Sp5XEirwIlevXj38VLNbyop8hOA2hzQbaV26dClbtmy3bt1sCUcOUOAk54477iDlOMzhCbu9KlWqZKCzqMhDlF3eTabc1FvnJYKitWXLFnxJ1a9fH49P+E2yS4pDOv4H8Uy3ffv248ePWy+6HoybV1999RX5Gjp06LBhw6x4SYvhxTrv8UVLolVBi1Pr8RSJI1V8a1IMNmzYkCOkfgI47Jsqf/LkycaNG9PI1K1b1/go9CMkxzCiBRjtTi5ytwyTkrSxrzjT6NixY47MpRQA44p/ciTjkGTVqlX4kMI34cCBA1MS4h3YUdGhQ4f58+c/9thj3uH9vz1z5sznn39esmRJ8wkXLrFmzJjhP7rPkMbZMq4Z8RG2efNmrOzKlSt9xrUSTIJ3EibHi8m1I9960cLFL74zx44du3r1aj7WrFmzpnVSDOnr169/5JFHWrRogdNGu0XXT8GgYzd48GCMKzV01qxZfqL4CePwYr0+OtodFdapR4W71hcrVozxxpo1a6ZOndq7d28nASFv3FUe5zb466RhXLRoka22K4ICDAJ5oQyTjLSxryVKlAhZbmKiO9WgXbt2GNd7772XAPTUsCIxIQP/dKvAf2qZMmUCi4qPiO9r2llc4Ro3y3IfQaEa/694A8VfI0PkCL4OdGfWOu8IF+UlRr71okVLRym94YYbDEoMZOVIwbaVLl2asZHdouvmN9k99vWyyy7jLRXHVpGT5p3UulVYpx757loPRHSveUgHyKLLZwRyOVW+YsWK/CxcuDAuWs+/CfsnygJMWnOxDKM9bexrWFbj4nMQTHZ2dvPmzXmTlZXFzK0JQsGKCxvwgVtFQBHJozFa7dSpEz5fly1bljxU2DfG2TJfKBUvXtzUtLAS80B8UV7In1u+9aK1f//+ChUqRIYiHn/lzl/LMRf4kKec23Js7OYlR9XBArhVWKeeJMXXetorJjAszrolrPIcY/D4448HwyQmVsQFGO25WIbzr329+eabORWhbdu2586dw3hga005sNgTdKuIKWQhfx47doy5Qabv6J1RXqkSIQUmi26mWXbu3IkfY5b6kgVLr+dyvBgc3PKtFy2MKwtvkQH+zTffiE6NeGSEijl+/PiWLVtS9jyC+X/l5sV/rJRCulVYpz5hrTeNwN13351SOj0Cx1d51p6YRmLd1yOW/1cRF2ASlotlOP/aV3Dv06cP82yMAtkjYFbvOdiPVRP/ZSXHkI4KjrLKMbD/AHPmzBkwYMDS8xc7NcwUsf/oAUIyGWVlm0kA1RJRhHhxkurIt1602HNE12rTpk1G1wcffOAotX7DbOShQ4ewGdYl5yiQ+vLSSy/Vrl2bLSo5BvYfwOHFbn10J8BRYZ36+Frft29fVgcYXLoTYOveVHlY2LVr17hx42yJjbIAk+ZcLMNoFz+/yRYrkydPZhR19uxZNtr079/flli6ZpTOiRMnsqbFNjxWMljPtyXcyDEqevbsSTdq27Ztl19+OfsFyE4YLRjUSZMmGQm33norXUuOJFy+fPnBgwfZHLtw4cIiRYqEke/ENZNFzEGxDDZ9+nSAmjlzJueqoGXKlClVq1Z1QgrdCPFOaiV4cYMgVLRYBYfffv36MXeKkWjVqhVzknZJMaSz4l6qVKl58+ZRtJgmsVV03RB53LOlju17jNjYv8PCBNvjPQKn9EqadxIjRH1MrWfpnQJAq8UOf5iaPXt2SjgkC+yu8vTdmTygheEjC8J/+OGH4af3IijAJDUvlGGSkTb2lX2kyQpEgOcUGqfjTwfNSOB7gACikkVJqCJZ4FSfr1ixwolSsGDBHTt28HP06NHOQys3ZOHo0aNuUb3OX+4n0vd2eSe1orwkk2+3aDHFQl/KjTy0uH+GuY8nHWnvvvtuGJkB4mI2uAJETBZFmnf0JlRhkfqYWn/69OlkmQ38PJ59iYG+aAE2RMQ0XDyMvgyjNF/PDwcuhRpREVAEFAFFQBHwRkDtqzc++lYRUAQUAUVAEQiCgNrXIKhpHEVAEVAEFAFFwBsBta/e+OhbRUARUAQUAUUgCAJqX4OgpnEUAUVAEVAEFAFvBMT3D2/cuFHu/Be+TCB7ixcvNp54vbMa4C0fGorKR7i0Cmn5ZMEcgBwPrxz10rxnBi/S1EfPO7xIUy8NWgRFS1WAgM8rWRn2GT3nYD+LXZzVYOvgUI9sSKuQlk/WpFVIyycLfBUH3U5RioD6CDIlrUJafgRFK3reI8hUBvASAUoZoyKmDDuNmJUbwfErn6Xz7RSnN8idr8YICSdQeHzjgFz4tn4xMubzNTn5JFhahbR8ssDkASdNQreDvzT10rxnBi/S1EfPO7xIUy8NWgRFS1WAgM8rvgz7jOgzmKB9NSnAuFapUsVnalINZmaeMa433nhjqnH9hDfTznLySYO0Cmn5HjDKUS/Ne2bwklvUy/EOL9LURwCaqvBoNNyvIgDKrU7iXvc3SaCqMhUBRUARUATyOwJqX/N7CdD8KwKKgCKgCEggoPZVAlWVqQgoAoqAIpDfEUgb+/rVV1+x1Wjo0KHDhg0L7yht7969eICB/BMnTuAaAjcR9erVw8U6W5lslYgYFezDGjVqFF56GjZsyCsrWnCbg0BE4RC0QYMG+MPiSPQNGzZYEY4Q0omPKrxzAA4+nE+ePNm4cWM01q1b17jzs6XIQ45d3k2mRKmPgPctW7bgO6V+/frQPXLkSLukOKTjGA5XYtu3b4drGKeA3XvvvUeOHPEgy+IrKuYTTzzx1FNPDR48eOvWreElx/CSplUeHERrvcO+aJUXLcBA5OQid8swKRHf3xS+YhgJNPTUtMsuuwyvVbNmzbLi8pA6jOMtPLS0bt26SZMmIX3GJcypowKXEXi+wzMd18CBA3EoljC8/4dnzpwBivLly/MJFz2DuXPnlixZktYQf8u49PIvxzskzpaNoyHw2b17N1nAWdjhw4dp2e+55x7vuFbeSvBOwhxehKh35Fvn/YcffmjWrNmCBQtwXUxGli1b1rFjR7ukOKTjcqRFixbvv//+6tWrcd34yiuv4PAc52tWmPUWghvH4cOH86kMnWmU2vIN5fAixLu7aFmnHuER1HqHfaEqH0EBBignF7lYhklG2oxfaWcxrqQYR6RWPlBzalq7du2QWaZMGYTbvdwqVq1aRfcf+Yz/Nm/eHF4RfoNpZx966CG8QgIOxhWZNILhHTTGpw3/r3gDxXEj7ThvCxcuXKBAgfhgEk+s804i3bxIUO+Wb533RYsWUYSMcSUvNIJypND7LF26NH6LKVfoEipdCYsNddxUc2ZNTAYTBkvpoZsXCd5JjFuFdeqRH1mtl6vyURZgEMvFMoz2tLGvpJULn9IzZsxo2rSp+RnmLwfBZGdnN2/ePIwQ77huFVlZWYwyTXjKrndEP2/BoVOnTkDBCMYRyywug2M/0X2GMW6K+UKpePHiTjPH5MHjjz/uU4KVYBZ5Jz1uXqwkL0aIW7513vfv31+hQoUYjfwUIoUJEvNJzMGDBydMmMDkZLxqoSdMk7AkxAQ4s3xWVLh5sSIwXohbhXXqURdBrZeu8hEXYEDLxTKcTvb13LlzzBS1bNkSJ8DxJTvVJzfffDOnIrRt2xaxqcb1Gd6tAvuEOTcRww8xjx07xkFuTAXTO6O8UiWQbH7efffdPpPnJxjTLHTDd+7cCebPP/88UZgeLFGiRJTtrF3eyYKbFz8gpBrGLd8u76QE48pye0yS5Ehh8Mr3rMzpUVOmTp1arly5GNVyP5mSIV/MDE+bNs2KFjcvVgTGC3GrsE59NLVeuspHXIDhKBfLcNrYV46Ceumll2rXrm2rMwvuffr0YZ6NUSDC46uKlSeOCjYfmT1BnB3IwkxI4XPmzBkwYMDS8xc7NZgi7tu3b9myZa0sSydMG/O0rIRBwa5du8aNG5cwjMRDCd5Jp8OLEPWOfLu8k3L2HNG12rRpk0Gb1XE5UpiNPHToUM2aNVmFZfdDnTp1JChOKPPs2bPmOQuxrEckDBPgocOLEO8kyVFhnfqIa71QlY+yAENHLpZhtKfN/qa1a9eynYceHJt3mKjs0qVLgNoVH4UOMjapZ8+e9HG2bdtGZWb/kd2NTkbFxIkTWTZjWxCLWOwSik9JSk8wqJMmTTJRbr31VnaT0l4gnL2+pUqVmj17dkrSPAKbySImtFmvwpAzikUdO66J8uGHH4YfiHuoNq+EeEe4NPUSvJNsVsEXLlzYr18/5swhnUV99tnaJcWQzoo7ZWnevHmUNDZ8PnP+Yq/ykCFDcmQtfICvv/56+vTpLMEye8Emg/ACHQnSvKNIiPpoar10lY+gAENBXijDJCNt7CvGg8upJCFvsBNmWyxy6P6HlJYwekIVrCclDJzqwxUrVjhRChYsePr0aeenxRuycPToUbdAuV6/W4v73i7vSE7Ii1tjyPuE8m3xbtLG/Mfy5cuddDKydO7D38STXqNGDbuL+n4See211/Ilnp+QPsMk5MVnXJ/BEqqwSH0EtT6efYkqL1qAISs+F7lShklJ2swP+yziGkwRUAQUAUVAEcgLCKh9zQssaBoUAUVAEVAEMg0Bta+ZxqjmRxFQBBQBRSAvIKD2NS+woGlQBBQBRUARyDQE1L5mGqOaH0VAEVAEFIG8gID4/uGNGzea818kcstpKYhdvHix8cRrXQUfGorKR7i0Cmn5ZIEDkBMiL0e9NO+ZwYs09dHzDi/S1EuDFkHRUhUg4PNKVoZ9Rs852M9iFwcpmBNEc05EiBDSKqTlk3VpFdLyyQIfwkK3U5QioD6CTEmrkJYfQdGKnvcIMpUBvESAUsaoiCnDTiNm5UZw/FqoUCG+neL0Bs5XgwyJixESft9wKscBuRLyGRnz+ZqcfNIsrUJaPllg8oCTJqHboUCaemneM4MXaeqj5x1epKmXBi2CoqUqQMDnFV+GfUb0GUzQvpoUYFyrVKniMzWpBjMzzxjXG2+8MdW4fsKbaWc5+aRBWoW0fA8Y5aiX5j0zeMkt6uV4hxdp6iMATVV4NBruVxEA5VYnca/7myRQVZmKgCKgCCgC+R0Bta/5vQRo/hUBRUARUAQkEFD7KoGqylQEFAFFQBHI7wikjX09ceIEfkKeeuopTjPfunVrSN727t3bqFEjhCAWbzB4hqlbt26DBg3wRnLkyJGQwk30eBX16tXDxTq7pazIRwhOWPHJY6ThOYcL95N4YLYlnyzgowqxpBzP7Yh98MEHQQktL7zwgi0t3nLs8o6ueF7sUh8jn/13o0aNgqaGDRvyyjuzPt/izQaPSfXr18f5AU557ZJCIg3pOILEldj27dtZBsM/D8UAdZs3b/aZSCvBjh8/3rlz59WrV4eXFsNLmlZ5cBCt9Q77Vqo80goUKIC7J0MfPhvieeQs/t69e5vnlDH8mMWH8XgSgQoP7Tm+uiTHEHkkAJ7jhg8fztZ5vJDiZR2vy+ETRtuNf/IePXrQwtJI4TnulVdeQTjupcILNxIcFa1bt27SpIlFz3dnzpzBYV/58uX5hKty5co4VCH9+MHGNwV5sZV+nC0bR0MknraVVgktuAyrXr16t27dihUrZktRMjkSvKPL4UWIekc+dOCOEKeHXHihmTlzZrKc+nwOxc2aNVuwYAGui4kC77169bJLikP6u+++i+dXurN8FUpDif+WESNGWPR+mGOW586dW61atRyD+Q/g8CLEOylxVFiv8giPoNY77Fup8jQUtNWUWMpPQppwfEnVOHDgAO6rEwbI8WEEKnJMQ7IAaTN+xbJykY2TJ0/i/zVZfvw/d6pBu3btKlWqRAtFXP5a9GnqVkExKlOmjP/k5RgSv8GUWlxj4hXSpJy/9PfxxJRj3FQD4P8Vb6A4bjQocQ9iWL5U5QQIb5130uDmRYJ6t/xVq1YxKYJShrBWBn+LFi1ClDGuiGUgK0cKvc/SpUtv2LDBNI7Z2dm1atUKQGKwKAcPHgRJi18fuHmR4J1sulVYr/LIj6zW26rybCbn4w5nCLty5UomwPA837x5cxwYm4KBM2OcCwcrJMSKQEXgtKWNfSWHhw8f5mvUkSNHMnMVOMNORA6Cob2AZucJ9XnChAlMvzhPQt7Eqwgp0B2deeBOnTo1bdp02bJlPKdjy4QhoyV3jtzhg90bN8V8oVS8eHHTrWnVqhXzPDTxFjsi3mmzyzu64nmxS71bflZWFosCJoO0Wd459fN2//79FSpUiAkpRwoTJHwSs379egZ8fMuOOY9RLfeTqfU2bdpYlO/mxYi1yzsy41VYTD+iIqj11qs8K3pjxozhuAbST9P90UcfrVmzhkHnrFmzDDht27ZlgoQhbGCsIlARLG3pZF9LlizJzC2zDdOmTQuWW3csFhE5FQFqme3kOdNu3E+dOrVcuXLuYGHuY1SEERUT99ixY5TIRx55hBEGDS5VgkEMy1Q7duwAH97GhA/8k8kiRmA7d+5kmYSlPuTMmzePNQ/60azMBRabUkS7vKM6hhfr1Lvl0y+hG2fya6VHgnHdt29fDIBypLAexviAZnHdunXz58/HxMaoFvpJkWP1we6Uj5sXkm2dd2TGqLALTjS13nqVp4uGTFY0QGPbtm1MOzOEZURLw2XwYXakf//+2ODAcEWgIlja0sa+nj171uSQacnChQsHy21MrD59+jDPxiiQOWfWmegE1alTJyZMyJ+OCo6yCinKHX3OnDkDBgxYev5iTZQ9U0Z+kSJFAMcWPm6N7Hmhs88omYfIv+z85Q4gdC/BO0l1eBGi3pHPVNiSJUvQyJmRzC6ER4k9R3StNm3aZES9//77cqTQizp06FDNmjWNLgbi0SwKoG737t1ff/01k1WMdVgG5md46JDg8CLEu1uF3SqP5IhrvcUqP2jQIDMDDKFso2EIy9qWGdEaWpmoWLt2LS2M+RngbwQqAqQqbfY3UdmmT5/OahzDTRYdA2Q1YRQGxHTJixYtWqJECUoAV+PGjYcMGZIwcLCHRkXPnj0ZCtB9o4ViPT/kRifWXCdNmmTSw95OAGGRjPWe06dPM4XuPqowWJqdWGayiIlNhIO/mR5EC4vWbKpygsndCPFOgqWpN/InTpzIXDo7b5lgYKNTeKBYBafvz5IVy1e04Czu0mYh1iIphnRW2UuVKsXImAmM5557zgy+2f0XPgt+JJAvLkIyi8goNuHWUz9y4sNI845GiSqP2GhqvUSVZ3zJyJ7hQPv27dkQzp61K6+8kpLssGOGsMwgOk9SvYlARapJInza2Fcq2LBhwwLkMGEUZjvNtljevnT+ShgszMMYFWFExcdlJ6fzsGDBgkJeIMjC0aNHHUXc0NS6f0Zwb5d3EhzDC+TbzUWMfCOcTo9FLYyD2TbsCGTexbkPfxNPOjvm7C7qp5TIBx54IKXwyQLH8GKdd/TGqEiWksDPI6j18eyHqfJuQOhomozHfN3gzEwwhHWPaH2iFIEKnylJGCxt5ocTpl4fKgKKgCKgCCgCeRMBta95kxdNlSKgCCgCikB6I6D2Nb3509QrAoqAIqAI5E0E1L7mTV40VYqAIqAIKALpjYDa1/TmT1OvCCgCioAikDcREN8/bPwhC2X++++/R7JxwyuhwuzLlZNPmqVVSMv3wF+OemneM4MXaeqT1YuNGzfKUc8BSbCzePHiZNp5G+bi22Kiy8lHuKrwSVAEQJk64jM9QYKxJVro4stFDiEIkqZU4phDiVOJkVpYK2fueKuUViEtn9zxUS90OwUpAuqleSdT0rhJy48gCzG8c4ZGBLxIq5CWDy+qAhD8XBEARTWk3Dptl90bwfErx9XS2eTwWD84Bg7DZ/UWj1OIT4a0fDRKq5CWTxY4wtDtdCEC6iPIlLQKafkRFK0Y3qmJHHnBgS0cqRhflaw8YXDMucQcWMaZ2FYExghh5MrHynLyUacqYjBP9jMCoJgF4ZRcOQsiaF9BjXaWKxl8+jyDEVDqM5hc76xhXC06vYnRZWaeMa54ZYl5ZeWnmXaWk08iVYVPpiIAymdKAgfT/U2BodOIioAioAgoAopAUgTUviaFRl8oAoqAIqAIKAKBEVD7Ghg6jagIKAKKgCKgCCRFQO1rUmj0hSKgCOQiAh06dHjq/OU+1z5wenBa3KhRI6KfOHHizjvvxKsjHuNxRIqXniNHjgQW644Yo4J9WKNGjcJ7UsOGDXnlDunnnih4lcFXkgmc0IMQp9v37t3bBLjjjjvw0OVHsgkjLd8jJVu2bMETV/369fErhVdpTvyHCBzsvPDCCx6x/L8iazjXAxD8FuPPEU/VLOXiZ4wnaNy8ebN/USFDyu5vCpk4ja4IKAL5FgFc02Ne7WYf43r//ff36NED40qzjtPAV155Bad7eJSzpchRgZsjPBLijJJr4MCBM2fOTFVF9erVR48ejatUDG3CuHiNRPiBAwfKli2bMID3Q2n5CbXj1p4c4W4d39sEwBNUr169IALHo6SnW7duxYoVSxgxpYd4dDce0nAejG/vrVu38jUtMNJXGzFixOzZs1OSFjiwjl8DQ6cRFQFFQBCB7OzsoUOHjhs3zhwnEl6TY/nwXlypUiXadGTy1+KHyG4VeHYzLmwZwgYbM7ETm23SzhB25cqVjPNuv/123AXi/dcAgidgvFYHA0dafsJULVq0CECMcSUAA1lDBP6GIYUvqhPGCvyQ7lTp0qVxj236KBSqWrVqBZaWakS1r6kipuEVAUUgCgRefvllXD7T/k6ePNmKPj7Hp3l1+7I9ePDghAkTHn74YSvyEeJWkZWVddVVVxnJP/30UzAVOPcdM2YMhx4QndnOjz76aM2aNYzzcDtvBOKTnJEZQ9i8KT8+Vfv3769QoULM81atWjEBjt212NdxVOB6nc+61q9fz6QFH2dTopxX0jdqX6URVvmKgCIQBIErrriCaMyyHjp0KEj8uDis8HGYAAaJqUheMlHJ/dSpU8uVKxcXNuADtwrmtzHnRlBgs4FtYKqT2VTkbNu2rUmTJgxhGdFipYxkhmX9+/fHBgdLsbT8+FRhXPft2xfzfN68eSyavvfee6yVxrwK/5NlaUbq9E7WrVs3f/58TGx4mT4lqH31CZQGUwQUgegQYP6To6DQR7NrDK0V3X369GFmslOnTidPnmRZjtFhnTp1rEh2hDgqmMhdsmQJzzl+j16CEyDVm0GDBpkZ4JEjRw4fPpwhLOuXZkRrRLVp02bt2rWMxVOVbMJLy49JFRuOGHBv2rTJPH///ffPnDnDfeHChTlP1/qRuths+mc1a9Y06phRsD4FHZNB90/d3+RGQ+8VAUUgTyDAmOPVV181rW337t0tpomtTIxgihYtWqJECewWV+PGjYcMGWJdxcSJE5nwZMMq64tsdAosnyEmw+KlS5e2b9++c+fO1apVu/LKK919DjOEZSweTIW0/JhUkXLG3ywbmy4US9T0GwjDcaGsi1euXDkmfLCfn332GbuFWdMtVaoUg2PWwp977jkzi8B2tmAyA8RS+xoANI2iCCgCsgiwGjd27FiLOviUxWwoReZL5y+Lwo2oGBXmIacZB1PkloapNkLY8+yWtnv3bvOTIax7ROsOk+xeWn4yvTxnNM+2YScAswjOvZUbsnb06FG3qBo1arjX3d2vRO91flgUXhWuCCgCioAikE8RUPuaT4nXbCsCioAioAiIIqD2VRReFa4IKAKKgCKQTxFQ+5pPiddsKwKKgCKgCIgioPZVFF4VrggoAoqAIpBPEdD9w/mUeM22IiCEgHGBLiTcnJVoPG9LqNizZw9i5eQjXFX4JC4CoESJJpsFUt3V7RMaDaYIKAL5DQHO5eHovlOnTolm/KKLLjJHTwhp4SvJwMcZ+kySqsg7QHHcBFa2YsWKPpOUUjC1rynBpYEVAUXACwFM7OHDh71ChH7HQQSFChUKLSapAGn5KFYVSdG/8EUEQJUsWVLIuJIVta8X8qm/FAFFQBFQBBQBGwjo/iYbKKoMRUARUAQUAUXgQgTUvl6Ih/5SBBQBRUARUARsIKD21QaKKkMRUAQUAUVAEbgQAbWvF+KhvxQBRUARUAQUARsIqH21gaLKUAQUAUVAEVAELkRA7euFeOgvRUARUAQUAUXABgL/F4oIRZjwQPQnAAAAAElFTkSuQmCC)"
      ],
      "metadata": {
        "id": "Ba_oX1kxp3ld"
      }
    },
    {
      "cell_type": "code",
      "source": [
        "result = pd.merge(left, right, how=\"inner\", on=[\"key1\", \"key2\"])\n",
        "result"
      ],
      "metadata": {
        "id": "HLRWjS0bp0yD"
      },
      "execution_count": null,
      "outputs": []
    },
    {
      "cell_type": "markdown",
      "source": [
        "![image.png](data:image/png;base64,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)"
      ],
      "metadata": {
        "id": "_Br4yxSjp4GM"
      }
    },
    {
      "cell_type": "markdown",
      "source": [
        " ## **Task 6:** Read the farmers market data and the division data. Join both the tables such that the division data can be added to the farmers market data"
      ],
      "metadata": {
        "id": "cl35uBperf1V"
      }
    },
    {
      "cell_type": "markdown",
      "source": [
        " ## **Task 7:** Direct to consumer marketing is an effective strategy to distribute agricultural and farm products to consumers. Farmers market forms an important link between farmers and consumers that helps foster farmer consumer relationships. The United States Department of Agriculture (USDA) has recognized the importance of farmers markets. Through its many programs, USDA has helped the growth of farmers markets across the country. As on date 8,791 farmers markets are listed in USDA’s National Farmers Market Directory.\n",
        "The data file contains the following details\n",
        "\n",
        "a. Variables indicating the geographical location of the farmers market (lat, long, street, county, state etc.)\n",
        "\n",
        "b. Variables indicating types of products (herbs, vegetables, seafood etc.)\n",
        "\n",
        "c. Variables indicating type of payment accepted (cash, WIC, SNAP, SFMNP etc.)\n",
        "\n",
        "d. Variables indicating online social media presence\n",
        "\n",
        "e. Variables indicating date and time\n",
        "\n",
        "The directory of farmers market across the US is given in the file\n",
        "\n",
        "**Answer the following questions:**\n",
        "\n",
        "1. Write a code to compute the number of farmers markets by state and arrange them in descending order of number of farmers market.\n",
        "\n",
        "2. Write a code to compute the number of farmers market by cities in Massachusetts and display the top five cities.\n",
        "\n",
        "3. Generate the following table using pivot function. First column should contain the states. Second column should have Payment System. For Payment System consider the columns, “Credit”, “WIC”, “WICcash”, and “SNAP” from the original farmers market data. Third column should have the number of farmers market offering the payment services. Sample output is given below.\n",
        "\n",
        "4. Write a code to show the top 5 states by number of farmers market that offer coffee"
      ],
      "metadata": {
        "id": "u3qJE-LhCU8G"
      }
    }
  ]
}